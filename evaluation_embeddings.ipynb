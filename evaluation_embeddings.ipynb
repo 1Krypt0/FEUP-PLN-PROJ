{
 "cells": [
  {
   "cell_type": "code",
   "execution_count": null,
   "metadata": {},
   "outputs": [],
   "source": [
    "import pandas as pd\n",
    "import os\n",
    "\n",
    "df = pd.DataFrame()\n",
    "\"\"\"\n",
    "for json_file in os.listdir(\"dataset/jsonl/\"):\n",
    "    df = pd.concat([df, pd.read_json(\"dataset/jsonl/\" + json_file, lines=True)])\n",
    "    print(f\"Added {json_file} to dataframe.\")\n",
    "\"\"\"\n",
    "df = pd.read_json('dataset/jsonl/en-US.jsonl', lines=True)\n",
    "df[\"locale\"] = df[\"locale\"].apply(lambda x: x.split(\"-\")[0])"
   ]
  },
  {
   "cell_type": "code",
   "execution_count": null,
   "metadata": {},
   "outputs": [],
   "source": [
    "%run -i \"preprocess_lang.ipynb\"\n",
    "%run -i \"preprocess_nolang.ipynb\"\n",
    "%run -i \"evaluation.ipynb\""
   ]
  },
  {
   "cell_type": "code",
   "execution_count": null,
   "metadata": {},
   "outputs": [],
   "source": [
    "from toolz.functoolz import pipe\n",
    "\n",
    "params = [\n",
    "    remove_punctuation,\n",
    "    lowercase,\n",
    "    tokenize\n",
    "]\n",
    "\n",
    "df = pipe(\n",
    "    df,\n",
    "    *params\n",
    ")\n"
   ]
  },
  {
   "cell_type": "code",
   "execution_count": null,
   "metadata": {},
   "outputs": [],
   "source": [
    "import numpy as np\n",
    "\n",
    "def tokens_to_mean_vector(embeddings, tokens):\n",
    "    # convert tokens to embedding vectors, up to sequence_len tokens\n",
    "    vec = []\n",
    "    n = 0\n",
    "    i = 0\n",
    "    while i < len(tokens):   # while there are tokens\n",
    "        try:\n",
    "            vec.append(embeddings.get_vector(tokens[i]))\n",
    "            n += 1\n",
    "        except KeyError:\n",
    "            True   # simply ignore out-of-vocabulary tokens\n",
    "        finally:\n",
    "            i += 1\n",
    "    \n",
    "    # return the mean of vec\n",
    "    return np.mean(vec, axis=0)    \n"
   ]
  },
  {
   "cell_type": "code",
   "execution_count": null,
   "metadata": {},
   "outputs": [],
   "source": [
    "from gensim.models import Word2Vec\n",
    "\n",
    "model = Word2Vec.load(f'D:\\models\\en.model')\n",
    "print(f\"Loaded en model.\")"
   ]
  },
  {
   "cell_type": "code",
   "execution_count": null,
   "metadata": {},
   "outputs": [],
   "source": [
    "for lang in df['locale'].unique():\n",
    "    print(f\"Adding {lang} embeddings to dataframe.\")\n",
    "    # apply tokens_to_mean_vector to each utterance with locale == lang\n",
    "    for i, row in df[df['locale'] == lang].iterrows():\n",
    "        df.at[i, 'utt'] = tokens_to_mean_vector(model.wv, row['utt'])\n",
    "    print(f\"Added {lang} embeddings to dataframe. Deleting model.\")\n"
   ]
  },
  {
   "cell_type": "code",
   "execution_count": null,
   "metadata": {},
   "outputs": [],
   "source": [
    "from sklearn.manifold import TSNE \n",
    "\n",
    "NUM_DIM = 50\n",
    "\n",
    "input_cols = [f'utt_{i}' for i in range(NUM_DIM)]\n",
    "tsne = TSNE(n_components=NUM_DIM, random_state=0, perplexity=2)\n"
   ]
  },
  {
   "cell_type": "code",
   "execution_count": null,
   "metadata": {},
   "outputs": [],
   "source": [
    "df['utt'] = tsne.fit_transform(df['utt'].values)"
   ]
  },
  {
   "cell_type": "code",
   "execution_count": null,
   "metadata": {},
   "outputs": [],
   "source": [
    "\n",
    "for i in range(300):\n",
    "    df[f'utt_{i}'] = df['utt'].apply(lambda x: x[i])"
   ]
  },
  {
   "cell_type": "code",
   "execution_count": null,
   "metadata": {},
   "outputs": [],
   "source": [
    "df.head()"
   ]
  },
  {
   "cell_type": "code",
   "execution_count": null,
   "metadata": {},
   "outputs": [],
   "source": [
    "output_cols = ['intent']\n",
    "averages = [None, \"macro\", \"weighted\", \"micro\", \"samples\"]"
   ]
  },
  {
   "cell_type": "code",
   "execution_count": null,
   "metadata": {},
   "outputs": [],
   "source": [
    "training_inputs = df[df['partition'] != 'test'][input_cols].values\n",
    "testing_inputs = df[df['partition'] == 'test'][input_cols].values\n",
    "training_classes = df[df['partition'] != 'test'][output_cols].values\n",
    "testing_classes = df[df['partition'] == 'test'][output_cols].values"
   ]
  },
  {
   "cell_type": "code",
   "execution_count": null,
   "metadata": {},
   "outputs": [],
   "source": [
    "from sklearn.naive_bayes import MultinomialNB\n",
    "from sklearn.metrics import f1_score\n",
    "\n",
    "nb = MultinomialNB(alpha=0.1)\n",
    "\n",
    "nb.fit(training_inputs, training_classes)\n",
    "score = nb.score(testing_inputs, testing_classes)\n",
    "f1_score = f1_score(testing_classes, nb.predict(testing_inputs), average=\"macro\")\n",
    "\n",
    "print(f\"Score: {score}\")\n",
    "print(f\"F1 Score: {f1_score}\")"
   ]
  },
  {
   "cell_type": "code",
   "execution_count": null,
   "metadata": {},
   "outputs": [],
   "source": [
    "from xgboost import XGBClassifier\n",
    "\n",
    "xgboost = XGBClassifier(subsample=0.7, n_estimators=200, min_child_weight=3, max_depth=3, max_delta_step=1, learning_rate=0.05, gamma=0.5, booster='gblinear')\n",
    "\n",
    "xgboost.fit(training_inputs, training_classes)\n",
    "score = xgboost.score(testing_inputs, testing_classes)\n",
    "f1_score = f1_score(testing_classes, xgboost.predict(testing_inputs), average=\"macro\")\n",
    "\n",
    "print(f\"Score: {score}\")\n",
    "print(f\"F1 Score: {f1_score}\")"
   ]
  },
  {
   "cell_type": "code",
   "execution_count": null,
   "metadata": {},
   "outputs": [],
   "source": [
    "from sklearn.neighbors import KNeighborsClassifier\n",
    "\n",
    "knn = KNeighborsClassifier(n_neighbors=5, weights='distance', algorithm='auto', leaf_size=30, p=2, metric='minkowski', metric_params=None)\n",
    "\n",
    "knn.fit(training_inputs, training_classes)\n",
    "score = knn.score(testing_inputs, testing_classes)\n",
    "f1_score = f1_score(testing_classes, knn.predict(testing_inputs), average=\"macro\")\n",
    "\n",
    "print(f\"Score: {score}\")\n",
    "print(f\"F1 Score: {f1_score}\")"
   ]
  }
 ],
 "metadata": {
  "kernelspec": {
   "display_name": "Python 3",
   "language": "python",
   "name": "python3"
  },
  "language_info": {
   "codemirror_mode": {
    "name": "ipython",
    "version": 3
   },
   "file_extension": ".py",
   "mimetype": "text/x-python",
   "name": "python",
   "nbconvert_exporter": "python",
   "pygments_lexer": "ipython3",
   "version": "3.10.10"
  },
  "orig_nbformat": 4
 },
 "nbformat": 4,
 "nbformat_minor": 2
}
