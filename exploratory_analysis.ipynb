{
 "cells": [
  {
   "cell_type": "code",
   "execution_count": null,
   "metadata": {},
   "outputs": [],
   "source": [
    "import pandas as pd\n",
    "from matplotlib import pyplot as plt\n",
    "from toolz.functoolz import pipe"
   ]
  },
  {
   "cell_type": "code",
   "execution_count": null,
   "metadata": {},
   "outputs": [],
   "source": [
    "%run -i \"preprocess_lang.ipynb\"\n",
    "%run -i \"preprocess_nolang.ipynb\""
   ]
  },
  {
   "cell_type": "code",
   "execution_count": null,
   "metadata": {},
   "outputs": [],
   "source": [
    "df = pd.read_json(\"dataset/jsonl/en-US.jsonl\", lines=True)\n",
    "df"
   ]
  },
  {
   "cell_type": "code",
   "execution_count": null,
   "metadata": {},
   "outputs": [],
   "source": [
    "df = pipe(df, remove_punctuation, lowercase, tokenize, apply_stemming)\n",
    "\n",
    "df[\"utt\"] = df[\"utt\"].apply(lambda x: \" \".join(x))\n",
    "df"
   ]
  },
  {
   "cell_type": "code",
   "execution_count": null,
   "metadata": {},
   "outputs": [],
   "source": [
    "def get_corpus(df):\n",
    "    return df[\"utt\"].tolist()\n",
    "\n",
    "\n",
    "get_corpus(df)"
   ]
  },
  {
   "cell_type": "code",
   "execution_count": null,
   "metadata": {},
   "outputs": [],
   "source": [
    "print(\"Scenarios:\")\n",
    "print(df[\"scenario\"].unique())\n",
    "\n",
    "print(\"\\nIntents:\")\n",
    "print(df[\"intent\"].unique())"
   ]
  },
  {
   "cell_type": "code",
   "execution_count": null,
   "metadata": {},
   "outputs": [],
   "source": [
    "fig, ax = plt.subplots()\n",
    "\n",
    "fig.set_figwidth(20)\n",
    "fig.set_dpi(800)\n",
    "\n",
    "ax.bar(df[\"scenario\"].unique(), df[\"scenario\"].value_counts(), color=\"#9179FA\")\n",
    "ax.set_title(\"Scenario Distribution\")\n",
    "ax.set_xlabel(\"Scenario\")\n",
    "ax.set_ylabel(\"Count\")\n",
    "\n",
    "plt.style.use(\"dark_background\")\n",
    "plt.xticks(rotation=90)\n",
    "plt.show()"
   ]
  },
  {
   "cell_type": "code",
   "execution_count": null,
   "metadata": {},
   "outputs": [],
   "source": [
    "fig, ax = plt.subplots()\n",
    "\n",
    "fig.set_figwidth(20)\n",
    "fig.set_dpi(800)\n",
    "\n",
    "ax.bar(df[\"intent\"].unique(), df[\"intent\"].value_counts(), color=\"#9179FA\")\n",
    "ax.set_title(\"Intent Distribution\")\n",
    "ax.set_xlabel(\"Intent\")\n",
    "ax.set_ylabel(\"Count\")\n",
    "\n",
    "plt.style.use(\"dark_background\")\n",
    "plt.xticks(rotation=90)\n",
    "plt.show()"
   ]
  },
  {
   "cell_type": "code",
   "execution_count": null,
   "metadata": {},
   "outputs": [],
   "source": [
    "\n",
    "from wordcloud import WordCloud\n",
    "\n",
    "\n",
    "def create_word_cloud(content):\n",
    "    wordcloud = WordCloud().generate(\" \".join(content))\n",
    "\n",
    "    plt.figure()\n",
    "    plt.imshow(wordcloud)\n",
    "    plt.axis(\"off\")\n",
    "    plt.show()"
   ]
  },
  {
   "cell_type": "code",
   "execution_count": null,
   "metadata": {},
   "outputs": [],
   "source": [
    "create_word_cloud(get_corpus(df))"
   ]
  },
  {
   "cell_type": "code",
   "execution_count": null,
   "metadata": {},
   "outputs": [],
   "source": [
    "create_word_cloud(get_corpus(df[df[\"scenario\"] == \"cooking\"]))"
   ]
  },
  {
   "cell_type": "code",
   "execution_count": null,
   "metadata": {},
   "outputs": [],
   "source": [
    "create_word_cloud(get_corpus(df[df[\"intent\"] == \"general_quirky\"]))"
   ]
  }
 ],
 "metadata": {
  "kernelspec": {
   "display_name": "Python 3",
   "language": "python",
   "name": "python3"
  },
  "language_info": {
   "codemirror_mode": {
    "name": "ipython",
    "version": 3
   },
   "file_extension": ".py",
   "mimetype": "text/x-python",
   "name": "python",
   "nbconvert_exporter": "python",
   "pygments_lexer": "ipython3",
   "version": "3.10.10"
  },
  "orig_nbformat": 4
 },
 "nbformat": 4,
 "nbformat_minor": 2
}
