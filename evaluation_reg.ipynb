{
 "cells": [
  {
   "cell_type": "code",
   "execution_count": 6,
   "metadata": {},
   "outputs": [],
   "source": [
    "import pandas as pd\n",
    "import os\n",
    "\n",
    "df = pd.DataFrame()\n",
    "\"\"\"\n",
    "for json_file in os.listdir(\"dataset/jsonl/\"):\n",
    "    df = pd.concat([df, pd.read_json(\"dataset/jsonl/\" + json_file, lines=True)])\n",
    "    print(f\"Added {json_file} to dataframe.\")\n",
    "\"\"\"\n",
    "df = pd.read_json('dataset/jsonl/en-US.jsonl', lines=True)\n",
    "df[\"locale\"] = df[\"locale\"].apply(lambda x: x.split(\"-\")[0])"
   ]
  },
  {
   "cell_type": "code",
   "execution_count": 7,
   "metadata": {},
   "outputs": [],
   "source": [
    "%run -i \"preprocess_lang.ipynb\"\n",
    "%run -i \"preprocess_nolang.ipynb\"\n",
    "%run -i \"evaluation.ipynb\""
   ]
  },
  {
   "cell_type": "code",
   "execution_count": 8,
   "metadata": {},
   "outputs": [],
   "source": [
    "from toolz.functoolz import pipe\n",
    "\n",
    "params = [\n",
    "    remove_punctuation,\n",
    "    lowercase,\n",
    "    tokenize,\n",
    "    apply_stemming,\n",
    "    encode_labels\n",
    "]\n",
    "\n",
    "df = pipe(\n",
    "    df,\n",
    "    *params\n",
    ")\n"
   ]
  },
  {
   "cell_type": "code",
   "execution_count": 10,
   "metadata": {},
   "outputs": [
    {
     "name": "stdout",
     "output_type": "stream",
     "text": [
      "Finished preprocessing dataset.\n",
      "\n",
      "\n"
     ]
    }
   ],
   "source": [
    "df['utt'] = df['utt'].apply(lambda x: \" \".join(x))\n",
    "\n",
    "print(f\"Finished preprocessing dataset.\\n\\n\")"
   ]
  },
  {
   "cell_type": "code",
   "execution_count": 11,
   "metadata": {},
   "outputs": [],
   "source": [
    "from sklearn.feature_extraction.text import CountVectorizer\n",
    "import numpy as np\n",
    "\n",
    "vectorizer = CountVectorizer()\n",
    "vectorized = vectorizer.fit_transform(df['utt'].to_list())\n"
   ]
  },
  {
   "cell_type": "code",
   "execution_count": 12,
   "metadata": {},
   "outputs": [],
   "source": [
    "input_cols = [f'__{feature_name}' for feature_name in vectorizer.get_feature_names_out()]\n",
    "output_cols = ['intent']\n",
    "averages = [None, \"macro\", \"weighted\", \"micro\", \"samples\"]"
   ]
  },
  {
   "cell_type": "code",
   "execution_count": 13,
   "metadata": {},
   "outputs": [],
   "source": [
    "count_vect_df = pd.DataFrame(vectorized.todense(), columns=input_cols)\n",
    "df = pd.concat([df, count_vect_df], axis=1)"
   ]
  },
  {
   "cell_type": "code",
   "execution_count": 19,
   "metadata": {},
   "outputs": [
    {
     "name": "stdout",
     "output_type": "stream",
     "text": [
      "Best params for DecisionTreeClassifier: {'model__splitter': 'random', 'model__min_samples_split': 10, 'model__min_samples_leaf': 6, 'model__max_features': 3565, 'model__max_depth': 14, 'model__criterion': 'entropy'}\n",
      "======================================================================\n",
      "Evaluation metrics for RandomizedSearchCV\n",
      "======================================================================\n",
      "RandomizedSearchCV's default score metric: 0.35251497620954036\n",
      "Classification report\n",
      "              precision    recall  f1-score   support\n",
      "\n",
      "           0     0.8846    0.6765    0.7667        34\n",
      "           1     0.9375    0.7143    0.8108        21\n",
      "           2     0.6667    0.6829    0.6747        41\n",
      "           3     1.0000    0.0000    0.0000        11\n",
      "           4     1.0000    0.0000    0.0000        32\n",
      "           5     1.0000    0.0000    0.0000         6\n",
      "           6     0.5000    0.1538    0.2353        13\n",
      "           7     0.2184    0.3016    0.2533       126\n",
      "           8     0.9583    0.3433    0.5055        67\n",
      "           9     0.7667    0.7703    0.7685       209\n",
      "          11     1.0000    0.0000    0.0000        72\n",
      "          12     1.0000    0.0000    0.0000        15\n",
      "          13     0.2756    0.4886    0.3525        88\n",
      "          14     0.7273    0.6667    0.6957        12\n",
      "          15     0.7815    0.7815    0.7815       119\n",
      "          16     0.0000    0.0000    0.0000        26\n",
      "          17     0.9589    0.6140    0.7487       114\n",
      "          18     1.0000    0.0000    0.0000         1\n",
      "          19     1.0000    0.0000    0.0000        19\n",
      "          20     0.1051    0.7396    0.1841       169\n",
      "          21     1.0000    0.1154    0.2069        26\n",
      "          22     1.0000    0.8333    0.9091        36\n",
      "          23     0.6744    0.8056    0.7342        36\n",
      "          24     0.9444    0.8095    0.8718        21\n",
      "          25     0.9706    0.7674    0.8571        43\n",
      "          26     0.5000    0.3333    0.4000         3\n",
      "          27     0.8824    0.5556    0.6818        27\n",
      "          28     0.5333    0.4444    0.4848        18\n",
      "          29     1.0000    0.0000    0.0000        10\n",
      "          30     0.9600    0.6154    0.7500        39\n",
      "          31     0.5000    0.8235    0.6222        51\n",
      "          32     1.0000    0.4808    0.6494        52\n",
      "          33     1.0000    0.0000    0.0000         4\n",
      "          34     0.1429    0.0278    0.0465        36\n",
      "          35     1.0000    0.2000    0.3333        35\n",
      "          36     1.0000    0.0000    0.0000         6\n",
      "          37     0.9710    0.5403    0.6943       124\n",
      "          38     1.0000    0.0732    0.1364        41\n",
      "          39     0.8947    0.4857    0.6296        35\n",
      "          40     0.7052    0.6932    0.6991       176\n",
      "          41     0.9615    0.3968    0.5618        63\n",
      "          42     0.6579    0.3472    0.4545        72\n",
      "          43     0.8571    0.3077    0.4528        39\n",
      "          44     0.1765    0.0526    0.0811        57\n",
      "          45     0.3953    0.1206    0.1848       141\n",
      "          46     1.0000    0.0000    0.0000        25\n",
      "          47     1.0000    0.1538    0.2667        26\n",
      "          48     1.0000    0.0000    0.0000        43\n",
      "          49     1.0000    0.0000    0.0000        31\n",
      "          50     1.0000    0.0500    0.0952        20\n",
      "          51     1.0000    0.0000    0.0000        81\n",
      "          52     1.0000    0.0000    0.0000        25\n",
      "          53     1.0000    0.0000    0.0000        22\n",
      "          54     1.0000    0.0000    0.0000        35\n",
      "          55     0.9167    0.4314    0.5867        51\n",
      "          56     1.0000    0.0000    0.0000        23\n",
      "          57     0.9333    0.8000    0.8615        35\n",
      "          58     1.0000    0.2667    0.4211        15\n",
      "          59     0.3506    0.3462    0.3484       156\n",
      "\n",
      "    accuracy                         0.4264      2974\n",
      "   macro avg     0.8086    0.3188    0.3525      2974\n",
      "weighted avg     0.7083    0.4264    0.4331      2974\n",
      "\n",
      "Accuracy: 0.4264\n",
      "F1-score: 0.3525\n",
      "======================================================================\n"
     ]
    },
    {
     "data": {
      "image/png": "[encoded data removed]",
      "text/plain": [
       "<Figure size 432x288 with 1 Axes>"
      ]
     },
     "metadata": {
      "needs_background": "light"
     },
     "output_type": "display_data"
    }
   ],
   "source": [
    "model1 = train_and_use_model(\n",
    "    DecisionTreeClassifier(),\n",
    "    {\n",
    "        \"model__criterion\": ['gini', 'entropy'],\n",
    "        'model__splitter': ['best', 'random'],\n",
    "        \"model__max_depth\": range(1, 15),\n",
    "        'model__max_features': range(1, len(input_cols)),\n",
    "        \"model__min_samples_split\": range(2,15),\n",
    "        \"model__min_samples_leaf\": range(1,7)\n",
    "    },\n",
    "    n_iter=20,\n",
    ")"
   ]
  },
  {
   "cell_type": "code",
   "execution_count": 21,
   "metadata": {},
   "outputs": [
    {
     "name": "stderr",
     "output_type": "stream",
     "text": [
      "C:\\Users\\nrtc\\AppData\\Local\\Packages\\PythonSoftwareFoundation.Python.3.10_qbz5n2kfra8p0\\LocalCache\\local-packages\\Python310\\site-packages\\sklearn\\utils\\validation.py:1143: DataConversionWarning: A column-vector y was passed when a 1d array was expected. Please change the shape of y to (n_samples, ), for example using ravel().\n",
      "  y = column_or_1d(y, warn=True)\n"
     ]
    },
    {
     "name": "stdout",
     "output_type": "stream",
     "text": [
      "Best params for MultinomialNB: {'model__alpha': 0.5}\n",
      "======================================================================\n",
      "Evaluation metrics for RandomizedSearchCV\n",
      "======================================================================\n",
      "RandomizedSearchCV's default score metric: 0.6997935402618228\n",
      "Classification report\n",
      "              precision    recall  f1-score   support\n",
      "\n",
      "           0     0.8333    0.7353    0.7812        34\n",
      "           1     0.9333    0.6667    0.7778        21\n",
      "           2     0.8095    0.8293    0.8193        41\n",
      "           3     1.0000    0.5455    0.7059        11\n",
      "           4     0.9474    0.5625    0.7059        32\n",
      "           5     1.0000    0.0000    0.0000         6\n",
      "           6     0.4706    0.6154    0.5333        13\n",
      "           7     0.6250    0.7937    0.6993       126\n",
      "           8     0.8630    0.9403    0.9000        67\n",
      "           9     0.7539    0.9234    0.8301       209\n",
      "          11     0.9365    0.8194    0.8741        72\n",
      "          12     1.0000    0.3333    0.5000        15\n",
      "          13     0.7353    0.8523    0.7895        88\n",
      "          14     0.8000    0.3333    0.4706        12\n",
      "          15     0.8433    0.9496    0.8933       119\n",
      "          16     0.7222    0.5000    0.5909        26\n",
      "          17     0.8480    0.9298    0.8870       114\n",
      "          18     1.0000    0.0000    0.0000         1\n",
      "          19     1.0000    0.4737    0.6429        19\n",
      "          20     0.4699    0.4615    0.4657       169\n",
      "          21     1.0000    0.8846    0.9388        26\n",
      "          22     1.0000    0.8889    0.9412        36\n",
      "          23     0.7805    0.8889    0.8312        36\n",
      "          24     0.8235    0.6667    0.7368        21\n",
      "          25     0.6724    0.9070    0.7723        43\n",
      "          26     1.0000    0.0000    0.0000         3\n",
      "          27     1.0000    0.5556    0.7143        27\n",
      "          28     0.8000    0.6667    0.7273        18\n",
      "          29     1.0000    0.5000    0.6667        10\n",
      "          30     0.9355    0.7436    0.8286        39\n",
      "          31     0.7561    0.6078    0.6739        51\n",
      "          32     0.9302    0.7692    0.8421        52\n",
      "          33     1.0000    0.0000    0.0000         4\n",
      "          34     1.0000    0.3611    0.5306        36\n",
      "          35     0.8966    0.7429    0.8125        35\n",
      "          36     1.0000    0.0000    0.0000         6\n",
      "          37     0.7134    0.9032    0.7972       124\n",
      "          38     0.9062    0.7073    0.7945        41\n",
      "          39     1.0000    0.6000    0.7500        35\n",
      "          40     0.6958    0.9489    0.8029       176\n",
      "          41     0.9091    0.7937    0.8475        63\n",
      "          42     0.8472    0.8472    0.8472        72\n",
      "          43     0.8750    0.8974    0.8861        39\n",
      "          44     0.8980    0.7719    0.8302        57\n",
      "          45     0.7347    0.7660    0.7500       141\n",
      "          46     0.9091    0.8000    0.8511        25\n",
      "          47     0.8077    0.8077    0.8077        26\n",
      "          48     0.7805    0.7442    0.7619        43\n",
      "          49     0.7812    0.8065    0.7937        31\n",
      "          50     0.8750    0.3500    0.5000        20\n",
      "          51     0.9000    0.8889    0.8944        81\n",
      "          52     0.8235    0.5600    0.6667        25\n",
      "          53     0.7826    0.8182    0.8000        22\n",
      "          54     1.0000    0.6000    0.7500        35\n",
      "          55     0.8222    0.7255    0.7708        51\n",
      "          56     1.0000    0.9130    0.9545        23\n",
      "          57     0.9355    0.8286    0.8788        35\n",
      "          58     0.7500    0.8000    0.7742        15\n",
      "          59     0.8588    0.9359    0.8957       156\n",
      "\n",
      "    accuracy                         0.7855      2974\n",
      "   macro avg     0.8609    0.6655    0.6998      2974\n",
      "weighted avg     0.8036    0.7855    0.7787      2974\n",
      "\n",
      "Accuracy: 0.7855\n",
      "F1-score: 0.6998\n",
      "======================================================================\n"
     ]
    }
   ],
   "source": [
    "from sklearn.naive_bayes import MultinomialNB\n",
    "\n",
    "model1 = train_and_use_model(\n",
    "    MultinomialNB(),\n",
    "    {\n",
    "        \"model__alpha\": [0.1, 0.5, 1.0, 1.5, 2.0],\n",
    "    },\n",
    "    n_iter=1,\n",
    ")"
   ]
  },
  {
   "cell_type": "code",
   "execution_count": null,
   "metadata": {},
   "outputs": [],
   "source": [
    "model3 = train_and_use_model(\n",
    "    LogisticRegression(), \n",
    "    {\n",
    "        \"solver\": ['liblinear'],\n",
    "        \"penalty\": ['l2'],\n",
    "        \"C\": [100, 10, 1.0, 0.1, 0.01],\n",
    "        \"dual\": [True]    \n",
    "    },\n",
    "    n_iter=1\n",
    ")"
   ]
  }
 ],
 "metadata": {
  "kernelspec": {
   "display_name": "Python 3 (ipykernel)",
   "language": "python",
   "name": "python3"
  },
  "language_info": {
   "codemirror_mode": {
    "name": "ipython",
    "version": 3
   },
   "file_extension": ".py",
   "mimetype": "text/x-python",
   "name": "python",
   "nbconvert_exporter": "python",
   "pygments_lexer": "ipython3",
   "version": "3.10.10"
  }
 },
 "nbformat": 4,
 "nbformat_minor": 2
}
