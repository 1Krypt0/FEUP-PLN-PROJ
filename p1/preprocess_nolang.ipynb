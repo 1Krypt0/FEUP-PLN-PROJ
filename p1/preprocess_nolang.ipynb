{
 "cells": [
  {
   "cell_type": "code",
   "execution_count": null,
   "metadata": {},
   "outputs": [],
   "source": [
    "import numpy as np\n",
    "import pandas as pd\n",
    "from polyglot.text import Text\n",
    "from IPython.utils import io\n",
    "from sklearn.preprocessing import LabelEncoder"
   ]
  },
  {
   "cell_type": "code",
   "execution_count": null,
   "metadata": {},
   "outputs": [],
   "source": [
    "def remove_punctuation(data: pd.DataFrame) -> pd.DataFrame:\n",
    "    \"\"\"Remove punctuation from text\"\"\"\n",
    "    data[\"utt\"] = data[\"utt\"].str.replace(r\"[^\\w\\s]\", \"\", regex=True)\n",
    "    return data"
   ]
  },
  {
   "cell_type": "code",
   "execution_count": null,
   "metadata": {},
   "outputs": [],
   "source": [
    "def lowercase(data: pd.DataFrame) -> pd.DataFrame:\n",
    "    \"\"\"Lowercase text\"\"\"\n",
    "    data[\"utt\"] = data[\"utt\"].str.lower()\n",
    "    return data"
   ]
  },
  {
   "cell_type": "code",
   "execution_count": null,
   "metadata": {},
   "outputs": [],
   "source": [
    "def tokenize(data: pd.DataFrame) -> pd.DataFrame:\n",
    "    \"\"\"Tokenize text\"\"\"\n",
    "    with io.capture_output() as captured:\n",
    "        data[\"utt_text\"] = data[\"utt\"].apply(Text)\n",
    "        data[\"utt\"] = data[\"utt_text\"].apply(lambda x: x.words)\n",
    "    return data"
   ]
  },
  {
   "cell_type": "code",
   "execution_count": null,
   "metadata": {},
   "outputs": [],
   "source": [
    "def drop_cols(data: pd.DataFrame) -> pd.DataFrame:\n",
    "    drop = [\"worker_id\", \"slot_method\", \"judgments\"]\n",
    "    return data.drop(drop, axis=1)"
   ]
  },
  {
   "cell_type": "code",
   "execution_count": null,
   "metadata": {},
   "outputs": [],
   "source": [
    "def encode_labels(data: pd.DataFrame) -> pd.DataFrame:\n",
    "    \"\"\"Encode labels\"\"\"\n",
    "    le = LabelEncoder()\n",
    "    le.fit(data[\"intent\"])\n",
    "    data[\"intent\"] = le.transform(data[\"intent\"])\n",
    "    return data, le"
   ]
  },
  {
   "cell_type": "code",
   "execution_count": null,
   "metadata": {},
   "outputs": [],
   "source": [
    "def decode_labels(data: np.ndarray, le: LabelEncoder) -> np.ndarray:\n",
    "    \"\"\"Decode labels\"\"\"\n",
    "    data = le.inverse_transform(data)\n",
    "    return data"
   ]
  }
 ],
 "metadata": {
  "kernelspec": {
   "display_name": "Python 3",
   "language": "python",
   "name": "python3"
  },
  "language_info": {
   "codemirror_mode": {
    "name": "ipython",
    "version": 3
   },
   "file_extension": ".py",
   "mimetype": "text/x-python",
   "name": "python",
   "nbconvert_exporter": "python",
   "pygments_lexer": "ipython3",
   "version": "3.12.3"
  },
  "orig_nbformat": 4
 },
 "nbformat": 4,
 "nbformat_minor": 2
}
