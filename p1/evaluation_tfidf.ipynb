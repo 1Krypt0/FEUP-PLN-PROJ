{
 "cells": [
  {
   "cell_type": "code",
   "execution_count": null,
   "metadata": {},
   "outputs": [],
   "source": [
    "import pandas as pd\n",
    "import os\n",
    "\n",
    "from toolz.functoolz import pipe\n",
    "from sklearn.feature_extraction.text import TfidfVectorizer\n",
    "from sklearn.naive_bayes import MultinomialNB\n",
    "from sklearn.linear_model import SGDClassifier\n",
    "from xgboost import XGBClassifier\n",
    "\n",
    "\n",
    "df = pd.DataFrame()\n",
    "for json_file in os.listdir(\"dataset/jsonl/\"):\n",
    "    df = pd.concat([df, pd.read_json(\"dataset/jsonl/\" + json_file, lines=True)])\n",
    "    print(f\"Added {json_file} to dataframe.\")"
   ]
  },
  {
   "cell_type": "code",
   "execution_count": null,
   "metadata": {},
   "outputs": [],
   "source": [
    "%run -i \"preprocess_nolang.ipynb\"\n",
    "%run -i \"preprocess_lang.ipynb\"\n",
    "%run -i \"evaluation.ipynb\""
   ]
  },
  {
   "cell_type": "code",
   "execution_count": null,
   "metadata": {},
   "outputs": [],
   "source": [
    "df[\"locale\"] = df[\"locale\"].apply(lambda x: x.split(\"-\")[0])\n",
    "\n",
    "params = [remove_punctuation, lowercase, tokenize, apply_stemming]\n",
    "\n",
    "\n",
    "df = pipe(df, *params)\n",
    "\n",
    "\n",
    "df[\"utt\"] = df[\"utt\"].apply(lambda x: \" \".join(x))\n",
    "df, encoder = encode_labels(df)\n",
    "\n",
    "print(f\"Finished preprocessing dataset.\\n\\n\")"
   ]
  },
  {
   "cell_type": "code",
   "execution_count": null,
   "metadata": {},
   "outputs": [],
   "source": [
    "vectorizer = TfidfVectorizer()\n",
    "vectorizer.fit(df[df[\"partition\"] != \"test\"][\"utt\"].values)"
   ]
  },
  {
   "cell_type": "code",
   "execution_count": null,
   "metadata": {},
   "outputs": [],
   "source": [
    "input_cols = [\n",
    "    f\"__{feature_name}\" for feature_name in vectorizer.get_feature_names_out()\n",
    "]\n",
    "output_cols = [\"intent\"]\n",
    "averages = [None, \"macro\", \"weighted\", \"micro\", \"samples\"]"
   ]
  },
  {
   "cell_type": "code",
   "execution_count": null,
   "metadata": {},
   "outputs": [],
   "source": [
    "training_df = df[df[\"partition\"] != \"test\"]\n",
    "testing_df = df[df[\"partition\"] == \"test\"]"
   ]
  },
  {
   "cell_type": "code",
   "execution_count": null,
   "metadata": {},
   "outputs": [],
   "source": [
    "training_df.reset_index(drop=True, inplace=True)\n",
    "testing_df.reset_index(drop=True, inplace=True)"
   ]
  },
  {
   "cell_type": "code",
   "execution_count": null,
   "metadata": {},
   "outputs": [],
   "source": [
    "indices = {}\n",
    "\n",
    "for lang in testing_df[\"locale\"].unique():\n",
    "    indices[lang] = testing_df.index[(testing_df[\"locale\"] == lang)].values"
   ]
  },
  {
   "cell_type": "code",
   "execution_count": null,
   "metadata": {},
   "outputs": [],
   "source": [
    " nb = train_and_use_model(\n",
    "  MultinomialNB(),\n",
    "  {\n",
    "   \"model__alpha\": 0.5,\n",
    "  },\n",
    "  n_iter=1,\n",
    " )"
   ]
  },
  {
   "cell_type": "code",
   "execution_count": null,
   "metadata": {},
   "outputs": [],
   "source": [
    "xgboost = train_and_use_model(\n",
    "    XGBClassifier(),\n",
    "    {\n",
    "        \"model__max_depth\": 3,\n",
    "        \"model__n_estimators\": 100,\n",
    "    },\n",
    "    n_iter=1,\n",
    ")"
   ]
  },
  {
   "cell_type": "code",
   "execution_count": null,
   "metadata": {},
   "outputs": [],
   "source": [
    "sgd = train_and_use_model(\n",
    "    SGDClassifier(),\n",
    "    {\n",
    "        \"model__alpha\": 0.0001,\n",
    "        \"model__max_iter\": 1000,\n",
    "        \"model__tol\": 1e-3,\n",
    "    },\n",
    "    n_iter=1,\n",
    ")"
   ]
  }
 ],
 "metadata": {
  "language_info": {
   "name": "python"
  }
 },
 "nbformat": 4,
 "nbformat_minor": 2
}
