{
 "cells": [
  {
   "cell_type": "code",
   "execution_count": 2,
   "metadata": {},
   "outputs": [],
   "source": [
    "from polyglot.text import Text\n",
    "from IPython.utils import io\n",
    "import pandas as pd"
   ]
  },
  {
   "cell_type": "code",
   "execution_count": null,
   "metadata": {},
   "outputs": [],
   "source": [
    "def remove_punctuation(data: pd.DataFrame) -> pd.DataFrame:\n",
    "    \"\"\"Remove punctuation from text\"\"\"\n",
    "    data[\"utt\"] = data[\"utt\"].str.replace(r\"[^\\w\\s]\",\"\", regex=True)\n",
    "    return data"
   ]
  },
  {
   "cell_type": "code",
   "execution_count": 3,
   "metadata": {},
   "outputs": [],
   "source": [
    "def lowercase(data: pd.DataFrame) -> pd.DataFrame:\n",
    "    \"\"\"Lowercase text\"\"\"\n",
    "    data[\"utt\"] = data[\"utt\"].str.lower()\n",
    "    return data"
   ]
  },
  {
   "cell_type": "code",
   "execution_count": 4,
   "metadata": {},
   "outputs": [],
   "source": [
    "def tokenize(data: pd.DataFrame) -> pd.DataFrame:\n",
    "    \"\"\"Tokenize text\"\"\"\n",
    "    with io.capture_output() as captured:\n",
    "        data[\"utt_text\"] = data[\"utt\"].apply(Text)\n",
    "        data[\"utt\"] = data[\"utt_text\"].apply(lambda x: x.words)\n",
    "    return data"
   ]
  },
  {
   "cell_type": "code",
   "execution_count": 3,
   "metadata": {},
   "outputs": [],
   "source": [
    "def drop_cols(data: pd.DataFrame) -> pd.DataFrame:\n",
    "    drop = [\"worker_id\", \"slot_method\", \"judgments\"]\n",
    "    return data.drop(drop, axis=1)"
   ]
  },
  {
   "cell_type": "code",
   "execution_count": null,
   "metadata": {},
   "outputs": [],
   "source": [
    "from sklearn.preprocessing import LabelEncoder\n",
    "\n",
    "intent_labels = None\n",
    "\n",
    "def encode_labels(data: pd.DataFrame) -> pd.DataFrame:\n",
    "    \"\"\"Encode labels\"\"\"\n",
    "    le = LabelEncoder()\n",
    "    le.fit(data['intent'])\n",
    "    data['intent'] = le.transform(data['intent'])\n",
    "    intent_labels = le.inverse_transform(data['intent'].unique())\n",
    "    return data"
   ]
  }
 ],
 "metadata": {
  "kernelspec": {
   "display_name": "Python 3",
   "language": "python",
   "name": "python3"
  },
  "language_info": {
   "codemirror_mode": {
    "name": "ipython",
    "version": 3
   },
   "file_extension": ".py",
   "mimetype": "text/x-python",
   "name": "python",
   "nbconvert_exporter": "python",
   "pygments_lexer": "ipython3",
   "version": "3.11.2"
  },
  "orig_nbformat": 4
 },
 "nbformat": 4,
 "nbformat_minor": 2
}
