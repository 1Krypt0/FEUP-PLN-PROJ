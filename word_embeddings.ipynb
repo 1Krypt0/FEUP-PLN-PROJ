{
 "cells": [
  {
   "cell_type": "code",
   "execution_count": 6,
   "metadata": {},
   "outputs": [],
   "source": [
    "# load word2vec text files into models\n",
    "import gensim\n",
    "import os\n",
    "\n",
    "models = {\n",
    "    'af':'',\n",
    "    'am':'',\n",
    "    'ar':'',\n",
    "    'az':'',\n",
    "    'bn':'',\n",
    "    'cy':'',\n",
    "    'da':'',\n",
    "    'de':'',\n",
    "    'el':'',\n",
    "    'en':'',\n",
    "    'es':'',\n",
    "    'fa':'',\n",
    "    'fi':'',\n",
    "    'fr':'',\n",
    "    'he':'',\n",
    "    'hi':'',\n",
    "    'hu':'',\n",
    "    'hy':'',\n",
    "    'id':'',\n",
    "    'is':'',\n",
    "    'it':'',\n",
    "    'ja':'',\n",
    "    'jv':'',\n",
    "    'ka':'',\n",
    "    'km':'',\n",
    "    'kn':'',\n",
    "    'ko':'',\n",
    "    'lv':'',\n",
    "    'ml':'',\n",
    "    'mn':'',\n",
    "    'ms':'',\n",
    "    'my':'',\n",
    "    'nb':'',\n",
    "    'nl':'',\n",
    "    'pl':'',\n",
    "    'pt':'',\n",
    "    'ro':'',\n",
    "    'ru':'',\n",
    "    'sl':'',\n",
    "    'sq':'',\n",
    "    'sv':'',\n",
    "    'sw':'',\n",
    "    'ta':'',\n",
    "    'te':'',\n",
    "    'th':'',\n",
    "    'tl':'',\n",
    "    'tr':'',\n",
    "    'ur':'',\n",
    "    'vi':'',\n",
    "    'zh':'',\n",
    "}"
   ]
  },
  {
   "cell_type": "code",
   "execution_count": null,
   "metadata": {},
   "outputs": [],
   "source": [
    "import fasttext.util\n",
    "\n",
    "for key in models:\n",
    "    if models[key] == '':\n",
    "        continue\n",
    "    fasttext.util.download_model(key, if_exists='ignore')\n",
    "    models[key] = gensim.models.Word2Vec.load(f'cc.{key}.300.bin.gz')\n",
    "    os.remove(f'cc.{key}.300.bin.gz')\n",
    "    print('Loaded ' + key)"
   ]
  },
  {
   "cell_type": "code",
   "execution_count": null,
   "metadata": {},
   "outputs": [],
   "source": [
    "models"
   ]
  },
  {
   "cell_type": "code",
   "execution_count": null,
   "metadata": {},
   "outputs": [],
   "source": [
    "from transvec.transformers import TranslationWordVectorizer\n",
    "\n",
    "word_training = [\n",
    "    (\"work\", \"werk\", \"ስራ\", \"عمل\", \"işləmək\", \"কাজ\", \"weithion\", \"arbejde\", \"arbeiten\"), \n",
    "]\n",
    "\n",
    "model = TranslationWordVectorizer(models['en'], *[models[key] for key in models.keys() if key != 'en']).fit(word_training)\n"
   ]
  },
  {
   "cell_type": "code",
   "execution_count": 1,
   "metadata": {},
   "outputs": [],
   "source": [
    "import pickle\n",
    "\n",
    "with open(\"multilingual_model.pickle\", \"wb\") as outfile:\n",
    "    # \"wb\" argument opens the file in binary mode\n",
    "    pickle.dump(model, outfile)"
   ]
  },
  {
   "cell_type": "code",
   "execution_count": null,
   "metadata": {},
   "outputs": [],
   "source": [
    "with open(\"multilingual_model.pickle\", \"rb\") as infile:\n",
    "    model = pickle.load(infile)"
   ]
  },
  {
   "cell_type": "code",
   "execution_count": null,
   "metadata": {},
   "outputs": [],
   "source": [
    "model.save(\"multilingual_model.model\")"
   ]
  }
 ],
 "metadata": {
  "kernelspec": {
   "display_name": "Python 3",
   "language": "python",
   "name": "python3"
  },
  "language_info": {
   "codemirror_mode": {
    "name": "ipython",
    "version": 3
   },
   "file_extension": ".py",
   "mimetype": "text/x-python",
   "name": "python",
   "nbconvert_exporter": "python",
   "pygments_lexer": "ipython3",
   "version": "3.10.10"
  },
  "orig_nbformat": 4
 },
 "nbformat": 4,
 "nbformat_minor": 2
}
