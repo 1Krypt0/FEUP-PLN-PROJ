{
 "cells": [
  {
   "cell_type": "code",
   "execution_count": 1,
   "metadata": {},
   "outputs": [],
   "source": [
    "# load word2vec text files into models\n",
    "import gensim\n",
    "import os\n",
    "\n",
    "models = {\n",
    "    'af':'',\n",
    "    'am':'',\n",
    "    'ar':'',\n",
    "    'az':'',\n",
    "    'bn':'',\n",
    "    'cy':'',\n",
    "    'da':'',\n",
    "    'de':'',\n",
    "    'el':'',\n",
    "    'en':'',\n",
    "    'es':'',\n",
    "    'fa':'',\n",
    "    'fi':'',\n",
    "    'fr':'',\n",
    "    'he':'',\n",
    "    'hi':'',\n",
    "    'hu':'',\n",
    "    'hy':'',\n",
    "    'id':'',\n",
    "    'is':'',\n",
    "    'it':'',\n",
    "    'ja':'',\n",
    "    'jv':'',\n",
    "    'ka':'',\n",
    "    'km':'',\n",
    "    'kn':'',\n",
    "    'ko':'',\n",
    "    'lv':'',\n",
    "    'ml':'',\n",
    "    'mn':'',\n",
    "    'ms':'',\n",
    "    'my':'',\n",
    "    'nb':'',\n",
    "    'nl':'',\n",
    "    'pl':'',\n",
    "    'pt':'',\n",
    "    'ro':'',\n",
    "    'ru':'',\n",
    "    'sl':'',\n",
    "    'sq':'',\n",
    "    'sv':'',\n",
    "    'sw':'',\n",
    "    'ta':'',\n",
    "    'te':'',\n",
    "    'th':'',\n",
    "    'tl':'',\n",
    "    'tr':'',\n",
    "    'ur':'',\n",
    "    'vi':'',\n",
    "    'zh':'',\n",
    "}"
   ]
  },
  {
   "cell_type": "code",
   "execution_count": 11,
   "metadata": {},
   "outputs": [
    {
     "ename": "ValueError",
     "evalue": "Incorrect model/corpus name",
     "output_type": "error",
     "traceback": [
      "\u001b[1;31m---------------------------------------------------------------------------\u001b[0m",
      "\u001b[1;31mValueError\u001b[0m                                Traceback (most recent call last)",
      "\u001b[1;32mc:\\Users\\nrtc\\OneDrive\\Ambiente de Trabalho\\FEUP-PLN-PROJ\\word_embeddings.ipynb Cell 2\u001b[0m in \u001b[0;36m<module>\u001b[1;34m\u001b[0m\n\u001b[0;32m      <a href='vscode-notebook-cell:/c%3A/Users/nrtc/OneDrive/Ambiente%20de%20Trabalho/FEUP-PLN-PROJ/word_embeddings.ipynb#W4sZmlsZQ%3D%3D?line=0'>1</a>\u001b[0m \u001b[39mimport\u001b[39;00m \u001b[39mgensim\u001b[39;00m\u001b[39m.\u001b[39;00m\u001b[39mdownloader\u001b[39;00m\n\u001b[1;32m----> <a href='vscode-notebook-cell:/c%3A/Users/nrtc/OneDrive/Ambiente%20de%20Trabalho/FEUP-PLN-PROJ/word_embeddings.ipynb#W4sZmlsZQ%3D%3D?line=1'>2</a>\u001b[0m af_model \u001b[39m=\u001b[39m gensim\u001b[39m.\u001b[39;49mdownloader\u001b[39m.\u001b[39;49mload(\u001b[39m\"\u001b[39;49m\u001b[39mword2vec-afcorpora-300\u001b[39;49m\u001b[39m\"\u001b[39;49m)\n",
      "File \u001b[1;32m~\\AppData\\Local\\Packages\\PythonSoftwareFoundation.Python.3.10_qbz5n2kfra8p0\\LocalCache\\local-packages\\Python310\\site-packages\\gensim\\downloader.py:492\u001b[0m, in \u001b[0;36mload\u001b[1;34m(name, return_path)\u001b[0m\n\u001b[0;32m    490\u001b[0m file_name \u001b[39m=\u001b[39m _get_filename(name)\n\u001b[0;32m    491\u001b[0m \u001b[39mif\u001b[39;00m file_name \u001b[39mis\u001b[39;00m \u001b[39mNone\u001b[39;00m:\n\u001b[1;32m--> 492\u001b[0m     \u001b[39mraise\u001b[39;00m \u001b[39mValueError\u001b[39;00m(\u001b[39m\"\u001b[39m\u001b[39mIncorrect model/corpus name\u001b[39m\u001b[39m\"\u001b[39m)\n\u001b[0;32m    493\u001b[0m folder_dir \u001b[39m=\u001b[39m os\u001b[39m.\u001b[39mpath\u001b[39m.\u001b[39mjoin(BASE_DIR, name)\n\u001b[0;32m    494\u001b[0m path \u001b[39m=\u001b[39m os\u001b[39m.\u001b[39mpath\u001b[39m.\u001b[39mjoin(folder_dir, file_name)\n",
      "\u001b[1;31mValueError\u001b[0m: Incorrect model/corpus name"
     ]
    }
   ],
   "source": [
    "import gensim.downloader\n",
    "af_model = gensim.downloader.load(\"word2vec-ruscorpora-300\")"
   ]
  },
  {
   "cell_type": "code",
   "execution_count": 3,
   "metadata": {},
   "outputs": [
    {
     "name": "stdout",
     "output_type": "stream",
     "text": [
      "cc.af.300.vec\n",
      "loaded model: cc.af.300.vec\n",
      "cc.am.300.vec\n",
      "loaded model: cc.am.300.vec\n",
      "cc.ar.300.vec\n",
      "loaded model: cc.ar.300.vec\n",
      "cc.ar.300.vec.gz\n",
      "loaded model: cc.ar.300.vec.gz\n",
      "cc.az.300.vec\n",
      "loaded model: cc.az.300.vec\n",
      "cc.bn.300.vec\n",
      "loaded model: cc.bn.300.vec\n",
      "cc.cy.300.vec\n",
      "loaded model: cc.cy.300.vec\n",
      "cc.da.300.vec\n",
      "loaded model: cc.da.300.vec\n",
      "cc.de.300.vec\n",
      "loaded model: cc.de.300.vec\n",
      "cc.el.300.vec\n"
     ]
    },
    {
     "ename": "MemoryError",
     "evalue": "Unable to allocate 2.24 GiB for an array with shape (2000000, 300) and data type float32",
     "output_type": "error",
     "traceback": [
      "\u001b[1;31m---------------------------------------------------------------------------\u001b[0m",
      "\u001b[1;31mMemoryError\u001b[0m                               Traceback (most recent call last)",
      "\u001b[1;32mc:\\Users\\nrtc\\OneDrive\\Ambiente de Trabalho\\FEUP-PLN-PROJ\\word_embeddings.ipynb Cell 2\u001b[0m in \u001b[0;36m<module>\u001b[1;34m\u001b[0m\n\u001b[0;32m      <a href='vscode-notebook-cell:/c%3A/Users/nrtc/OneDrive/Ambiente%20de%20Trabalho/FEUP-PLN-PROJ/word_embeddings.ipynb#W1sZmlsZQ%3D%3D?line=4'>5</a>\u001b[0m     \u001b[39mcontinue\u001b[39;00m\n\u001b[0;32m      <a href='vscode-notebook-cell:/c%3A/Users/nrtc/OneDrive/Ambiente%20de%20Trabalho/FEUP-PLN-PROJ/word_embeddings.ipynb#W1sZmlsZQ%3D%3D?line=5'>6</a>\u001b[0m \u001b[39mprint\u001b[39m(filename)\n\u001b[1;32m----> <a href='vscode-notebook-cell:/c%3A/Users/nrtc/OneDrive/Ambiente%20de%20Trabalho/FEUP-PLN-PROJ/word_embeddings.ipynb#W1sZmlsZQ%3D%3D?line=6'>7</a>\u001b[0m models[filename] \u001b[39m=\u001b[39m gensim\u001b[39m.\u001b[39;49mmodels\u001b[39m.\u001b[39;49mKeyedVectors\u001b[39m.\u001b[39;49mload_word2vec_format(\u001b[39m'\u001b[39;49m\u001b[39mdataset/word2vec/\u001b[39;49m\u001b[39m'\u001b[39;49m \u001b[39m+\u001b[39;49m word2vec_file)\n\u001b[0;32m      <a href='vscode-notebook-cell:/c%3A/Users/nrtc/OneDrive/Ambiente%20de%20Trabalho/FEUP-PLN-PROJ/word_embeddings.ipynb#W1sZmlsZQ%3D%3D?line=7'>8</a>\u001b[0m \u001b[39mprint\u001b[39m(\u001b[39m'\u001b[39m\u001b[39mloaded model: \u001b[39m\u001b[39m'\u001b[39m \u001b[39m+\u001b[39m filename)\n",
      "File \u001b[1;32m~\\AppData\\Local\\Packages\\PythonSoftwareFoundation.Python.3.10_qbz5n2kfra8p0\\LocalCache\\local-packages\\Python310\\site-packages\\gensim\\models\\keyedvectors.py:1719\u001b[0m, in \u001b[0;36mKeyedVectors.load_word2vec_format\u001b[1;34m(cls, fname, fvocab, binary, encoding, unicode_errors, limit, datatype, no_header)\u001b[0m\n\u001b[0;32m   1672\u001b[0m \u001b[39m@classmethod\u001b[39m\n\u001b[0;32m   1673\u001b[0m \u001b[39mdef\u001b[39;00m \u001b[39mload_word2vec_format\u001b[39m(\n\u001b[0;32m   1674\u001b[0m         \u001b[39mcls\u001b[39m, fname, fvocab\u001b[39m=\u001b[39m\u001b[39mNone\u001b[39;00m, binary\u001b[39m=\u001b[39m\u001b[39mFalse\u001b[39;00m, encoding\u001b[39m=\u001b[39m\u001b[39m'\u001b[39m\u001b[39mutf8\u001b[39m\u001b[39m'\u001b[39m, unicode_errors\u001b[39m=\u001b[39m\u001b[39m'\u001b[39m\u001b[39mstrict\u001b[39m\u001b[39m'\u001b[39m,\n\u001b[0;32m   1675\u001b[0m         limit\u001b[39m=\u001b[39m\u001b[39mNone\u001b[39;00m, datatype\u001b[39m=\u001b[39mREAL, no_header\u001b[39m=\u001b[39m\u001b[39mFalse\u001b[39;00m,\n\u001b[0;32m   1676\u001b[0m     ):\n\u001b[0;32m   1677\u001b[0m     \u001b[39m\"\"\"Load KeyedVectors from a file produced by the original C word2vec-tool format.\u001b[39;00m\n\u001b[0;32m   1678\u001b[0m \n\u001b[0;32m   1679\u001b[0m \u001b[39m    Warnings\u001b[39;00m\n\u001b[1;32m   (...)\u001b[0m\n\u001b[0;32m   1717\u001b[0m \n\u001b[0;32m   1718\u001b[0m \u001b[39m    \"\"\"\u001b[39;00m\n\u001b[1;32m-> 1719\u001b[0m     \u001b[39mreturn\u001b[39;00m _load_word2vec_format(\n\u001b[0;32m   1720\u001b[0m         \u001b[39mcls\u001b[39;49m, fname, fvocab\u001b[39m=\u001b[39;49mfvocab, binary\u001b[39m=\u001b[39;49mbinary, encoding\u001b[39m=\u001b[39;49mencoding, unicode_errors\u001b[39m=\u001b[39;49municode_errors,\n\u001b[0;32m   1721\u001b[0m         limit\u001b[39m=\u001b[39;49mlimit, datatype\u001b[39m=\u001b[39;49mdatatype, no_header\u001b[39m=\u001b[39;49mno_header,\n\u001b[0;32m   1722\u001b[0m     )\n",
      "File \u001b[1;32m~\\AppData\\Local\\Packages\\PythonSoftwareFoundation.Python.3.10_qbz5n2kfra8p0\\LocalCache\\local-packages\\Python310\\site-packages\\gensim\\models\\keyedvectors.py:2062\u001b[0m, in \u001b[0;36m_load_word2vec_format\u001b[1;34m(cls, fname, fvocab, binary, encoding, unicode_errors, limit, datatype, no_header, binary_chunk_size)\u001b[0m\n\u001b[0;32m   2060\u001b[0m \u001b[39mif\u001b[39;00m limit:\n\u001b[0;32m   2061\u001b[0m     vocab_size \u001b[39m=\u001b[39m \u001b[39mmin\u001b[39m(vocab_size, limit)\n\u001b[1;32m-> 2062\u001b[0m kv \u001b[39m=\u001b[39m \u001b[39mcls\u001b[39;49m(vector_size, vocab_size, dtype\u001b[39m=\u001b[39;49mdatatype)\n\u001b[0;32m   2064\u001b[0m \u001b[39mif\u001b[39;00m binary:\n\u001b[0;32m   2065\u001b[0m     _word2vec_read_binary(\n\u001b[0;32m   2066\u001b[0m         fin, kv, counts, vocab_size, vector_size, datatype, unicode_errors, binary_chunk_size, encoding\n\u001b[0;32m   2067\u001b[0m     )\n",
      "File \u001b[1;32m~\\AppData\\Local\\Packages\\PythonSoftwareFoundation.Python.3.10_qbz5n2kfra8p0\\LocalCache\\local-packages\\Python310\\site-packages\\gensim\\models\\keyedvectors.py:245\u001b[0m, in \u001b[0;36mKeyedVectors.__init__\u001b[1;34m(self, vector_size, count, dtype, mapfile_path)\u001b[0m\n\u001b[0;32m    242\u001b[0m \u001b[39mself\u001b[39m\u001b[39m.\u001b[39mnext_index \u001b[39m=\u001b[39m \u001b[39m0\u001b[39m  \u001b[39m# pointer to where next new entry will land\u001b[39;00m\n\u001b[0;32m    243\u001b[0m \u001b[39mself\u001b[39m\u001b[39m.\u001b[39mkey_to_index \u001b[39m=\u001b[39m {}\n\u001b[1;32m--> 245\u001b[0m \u001b[39mself\u001b[39m\u001b[39m.\u001b[39mvectors \u001b[39m=\u001b[39m zeros((count, vector_size), dtype\u001b[39m=\u001b[39;49mdtype)  \u001b[39m# formerly known as syn0\u001b[39;00m\n\u001b[0;32m    246\u001b[0m \u001b[39mself\u001b[39m\u001b[39m.\u001b[39mnorms \u001b[39m=\u001b[39m \u001b[39mNone\u001b[39;00m\n\u001b[0;32m    248\u001b[0m \u001b[39m# \"expandos\" are extra attributes stored for each key: {attribute_name} => numpy array of values of\u001b[39;00m\n\u001b[0;32m    249\u001b[0m \u001b[39m# this attribute, with one array value for each vector key.\u001b[39;00m\n\u001b[0;32m    250\u001b[0m \u001b[39m# The same information used to be stored in a structure called Vocab in Gensim <4.0.0, but\u001b[39;00m\n\u001b[0;32m    251\u001b[0m \u001b[39m# with different indexing: {vector key} => Vocab object containing all attributes for the given vector key.\u001b[39;00m\n\u001b[0;32m    252\u001b[0m \u001b[39m#\u001b[39;00m\n\u001b[0;32m    253\u001b[0m \u001b[39m# Don't modify expandos directly; call set_vecattr()/get_vecattr() instead.\u001b[39;00m\n",
      "\u001b[1;31mMemoryError\u001b[0m: Unable to allocate 2.24 GiB for an array with shape (2000000, 300) and data type float32"
     ]
    }
   ],
   "source": [
    "for word2vec_file in os.listdir('dataset/word2vec'):\n",
    "    # get filename\n",
    "    filename = os.fsdecode(word2vec_file)\n",
    "    if filename in models.keys():\n",
    "        continue\n",
    "    print(filename)\n",
    "    models[filename] = gensim.models.KeyedVectors.load_word2vec_format('dataset/word2vec/' + word2vec_file)\n",
    "    print('loaded model: ' + filename)\n"
   ]
  },
  {
   "cell_type": "code",
   "execution_count": 9,
   "metadata": {},
   "outputs": [
    {
     "data": {
      "text/plain": [
       "{'cc.af.300.vec': <gensim.models.keyedvectors.KeyedVectors at 0x1ecbc41a440>,\n",
       " 'cc.am.300.vec': <gensim.models.keyedvectors.KeyedVectors at 0x1ecbcc32980>,\n",
       " 'cc.ar.300.vec': <gensim.models.keyedvectors.KeyedVectors at 0x1ecbcc323e0>,\n",
       " 'cc.ar.300.vec.gz': <gensim.models.keyedvectors.KeyedVectors at 0x1ecbcc01d50>,\n",
       " 'cc.az.300.vec': <gensim.models.keyedvectors.KeyedVectors at 0x1ecbcc03e80>,\n",
       " 'cc.bn.300.vec': <gensim.models.keyedvectors.KeyedVectors at 0x1ecbcc02200>,\n",
       " 'cc.cy.300.vec': <gensim.models.keyedvectors.KeyedVectors at 0x1ecbcc00820>,\n",
       " 'cc.da.300.vec': <gensim.models.keyedvectors.KeyedVectors at 0x1ecbcc00fd0>,\n",
       " 'cc.de.300.vec': <gensim.models.keyedvectors.KeyedVectors at 0x1ecbcc012a0>}"
      ]
     },
     "execution_count": 9,
     "metadata": {},
     "output_type": "execute_result"
    }
   ],
   "source": [
    "models"
   ]
  },
  {
   "cell_type": "code",
   "execution_count": 10,
   "metadata": {},
   "outputs": [
    {
     "ename": "AttributeError",
     "evalue": "'KeyedVectors' object has no attribute 'wv'",
     "output_type": "error",
     "traceback": [
      "\u001b[1;31m---------------------------------------------------------------------------\u001b[0m",
      "\u001b[1;31mAttributeError\u001b[0m                            Traceback (most recent call last)",
      "\u001b[1;32mc:\\Users\\nrtc\\OneDrive\\Ambiente de Trabalho\\FEUP-PLN-PROJ\\word_embeddings.ipynb Cell 4\u001b[0m in \u001b[0;36m<module>\u001b[1;34m\u001b[0m\n\u001b[0;32m      <a href='vscode-notebook-cell:/c%3A/Users/nrtc/OneDrive/Ambiente%20de%20Trabalho/FEUP-PLN-PROJ/word_embeddings.ipynb#W3sZmlsZQ%3D%3D?line=0'>1</a>\u001b[0m \u001b[39mfrom\u001b[39;00m \u001b[39mtransvec\u001b[39;00m\u001b[39m.\u001b[39;00m\u001b[39mtransformers\u001b[39;00m \u001b[39mimport\u001b[39;00m TranslationWordVectorizer\n\u001b[0;32m      <a href='vscode-notebook-cell:/c%3A/Users/nrtc/OneDrive/Ambiente%20de%20Trabalho/FEUP-PLN-PROJ/word_embeddings.ipynb#W3sZmlsZQ%3D%3D?line=2'>3</a>\u001b[0m word_training \u001b[39m=\u001b[39m [\n\u001b[0;32m      <a href='vscode-notebook-cell:/c%3A/Users/nrtc/OneDrive/Ambiente%20de%20Trabalho/FEUP-PLN-PROJ/word_embeddings.ipynb#W3sZmlsZQ%3D%3D?line=3'>4</a>\u001b[0m     (\u001b[39m\"\u001b[39m\u001b[39mwerk\u001b[39m\u001b[39m\"\u001b[39m, \u001b[39m\"\u001b[39m\u001b[39mስራ\u001b[39m\u001b[39m\"\u001b[39m, \u001b[39m\"\u001b[39m\u001b[39mعمل\u001b[39m\u001b[39m\"\u001b[39m, \u001b[39m\"\u001b[39m\u001b[39mişləmək\u001b[39m\u001b[39m\"\u001b[39m, \u001b[39m\"\u001b[39m\u001b[39mকাজ\u001b[39m\u001b[39m\"\u001b[39m, \u001b[39m\"\u001b[39m\u001b[39mweithion\u001b[39m\u001b[39m\"\u001b[39m, \u001b[39m\"\u001b[39m\u001b[39marbejde\u001b[39m\u001b[39m\"\u001b[39m, \u001b[39m\"\u001b[39m\u001b[39marbeiten\u001b[39m\u001b[39m\"\u001b[39m), \n\u001b[0;32m      <a href='vscode-notebook-cell:/c%3A/Users/nrtc/OneDrive/Ambiente%20de%20Trabalho/FEUP-PLN-PROJ/word_embeddings.ipynb#W3sZmlsZQ%3D%3D?line=4'>5</a>\u001b[0m ]\n\u001b[1;32m----> <a href='vscode-notebook-cell:/c%3A/Users/nrtc/OneDrive/Ambiente%20de%20Trabalho/FEUP-PLN-PROJ/word_embeddings.ipynb#W3sZmlsZQ%3D%3D?line=6'>7</a>\u001b[0m model \u001b[39m=\u001b[39m TranslationWordVectorizer(models[\u001b[39m'\u001b[39;49m\u001b[39mcc.af.300.vec\u001b[39;49m\u001b[39m'\u001b[39;49m],\n\u001b[0;32m      <a href='vscode-notebook-cell:/c%3A/Users/nrtc/OneDrive/Ambiente%20de%20Trabalho/FEUP-PLN-PROJ/word_embeddings.ipynb#W3sZmlsZQ%3D%3D?line=7'>8</a>\u001b[0m                                   models[\u001b[39m'\u001b[39;49m\u001b[39mcc.am.300.vec\u001b[39;49m\u001b[39m'\u001b[39;49m],\n\u001b[0;32m      <a href='vscode-notebook-cell:/c%3A/Users/nrtc/OneDrive/Ambiente%20de%20Trabalho/FEUP-PLN-PROJ/word_embeddings.ipynb#W3sZmlsZQ%3D%3D?line=8'>9</a>\u001b[0m                                   models[\u001b[39m'\u001b[39;49m\u001b[39mcc.ar.300.vec\u001b[39;49m\u001b[39m'\u001b[39;49m],\n\u001b[0;32m     <a href='vscode-notebook-cell:/c%3A/Users/nrtc/OneDrive/Ambiente%20de%20Trabalho/FEUP-PLN-PROJ/word_embeddings.ipynb#W3sZmlsZQ%3D%3D?line=9'>10</a>\u001b[0m                                   models[\u001b[39m'\u001b[39;49m\u001b[39mcc.az.300.vec\u001b[39;49m\u001b[39m'\u001b[39;49m],\n\u001b[0;32m     <a href='vscode-notebook-cell:/c%3A/Users/nrtc/OneDrive/Ambiente%20de%20Trabalho/FEUP-PLN-PROJ/word_embeddings.ipynb#W3sZmlsZQ%3D%3D?line=10'>11</a>\u001b[0m                                   models[\u001b[39m'\u001b[39;49m\u001b[39mcc.bn.300.vec\u001b[39;49m\u001b[39m'\u001b[39;49m],\n\u001b[0;32m     <a href='vscode-notebook-cell:/c%3A/Users/nrtc/OneDrive/Ambiente%20de%20Trabalho/FEUP-PLN-PROJ/word_embeddings.ipynb#W3sZmlsZQ%3D%3D?line=11'>12</a>\u001b[0m                                   models[\u001b[39m'\u001b[39;49m\u001b[39mcc.cy.300.vec\u001b[39;49m\u001b[39m'\u001b[39;49m],\n\u001b[0;32m     <a href='vscode-notebook-cell:/c%3A/Users/nrtc/OneDrive/Ambiente%20de%20Trabalho/FEUP-PLN-PROJ/word_embeddings.ipynb#W3sZmlsZQ%3D%3D?line=12'>13</a>\u001b[0m                                   models[\u001b[39m'\u001b[39;49m\u001b[39mcc.da.300.vec\u001b[39;49m\u001b[39m'\u001b[39;49m],\n\u001b[0;32m     <a href='vscode-notebook-cell:/c%3A/Users/nrtc/OneDrive/Ambiente%20de%20Trabalho/FEUP-PLN-PROJ/word_embeddings.ipynb#W3sZmlsZQ%3D%3D?line=13'>14</a>\u001b[0m                                   models[\u001b[39m'\u001b[39;49m\u001b[39mcc.de.300.vec\u001b[39;49m\u001b[39m'\u001b[39;49m])\u001b[39m.\u001b[39mfit(word_training)\n",
      "File \u001b[1;32m~\\AppData\\Local\\Packages\\PythonSoftwareFoundation.Python.3.10_qbz5n2kfra8p0\\LocalCache\\local-packages\\Python310\\site-packages\\transvec\\transformers.py:109\u001b[0m, in \u001b[0;36mTranslationWordVectorizer.__init__\u001b[1;34m(self, target, alpha, max_iter, tol, solver, missing, random_state, *sources)\u001b[0m\n\u001b[0;32m    103\u001b[0m     \u001b[39mraise\u001b[39;00m \u001b[39mValueError\u001b[39;00m(\n\u001b[0;32m    104\u001b[0m         \u001b[39m\"\u001b[39m\u001b[39m__init__() missing 1 required positional argument: \u001b[39m\u001b[39m'\u001b[39m\u001b[39msources\u001b[39m\u001b[39m'\u001b[39m\u001b[39m\"\u001b[39m\n\u001b[0;32m    105\u001b[0m     )\n\u001b[0;32m    107\u001b[0m \u001b[39mself\u001b[39m\u001b[39m.\u001b[39mtarget \u001b[39m=\u001b[39m target\n\u001b[1;32m--> 109\u001b[0m sample \u001b[39m=\u001b[39m target[\u001b[39mnext\u001b[39m(\u001b[39miter\u001b[39m(target\u001b[39m.\u001b[39;49mwv\u001b[39m.\u001b[39mvocab\u001b[39m.\u001b[39mkeys()))]\n\u001b[0;32m    110\u001b[0m \u001b[39mself\u001b[39m\u001b[39m.\u001b[39mdim \u001b[39m=\u001b[39m \u001b[39mlen\u001b[39m(sample)\n\u001b[0;32m    111\u001b[0m \u001b[39mself\u001b[39m\u001b[39m.\u001b[39mdtype \u001b[39m=\u001b[39m sample\u001b[39m.\u001b[39mdtype\n",
      "\u001b[1;31mAttributeError\u001b[0m: 'KeyedVectors' object has no attribute 'wv'"
     ]
    }
   ],
   "source": [
    "from transvec.transformers import TranslationWordVectorizer\n",
    "\n",
    "word_training = [\n",
    "    (\"werk\", \"ስራ\", \"عمل\", \"işləmək\", \"কাজ\", \"weithion\", \"arbejde\", \"arbeiten\"), \n",
    "]\n",
    "\n",
    "model = TranslationWordVectorizer(models['cc.af.300.vec'],\n",
    "                                  models['cc.am.300.vec'],\n",
    "                                  models['cc.ar.300.vec'],\n",
    "                                  models['cc.az.300.vec'],\n",
    "                                  models['cc.bn.300.vec'],\n",
    "                                  models['cc.cy.300.vec'],\n",
    "                                  models['cc.da.300.vec'],\n",
    "                                  models['cc.de.300.vec']).fit(word_training)"
   ]
  }
 ],
 "metadata": {
  "kernelspec": {
   "display_name": "Python 3",
   "language": "python",
   "name": "python3"
  },
  "language_info": {
   "codemirror_mode": {
    "name": "ipython",
    "version": 3
   },
   "file_extension": ".py",
   "mimetype": "text/x-python",
   "name": "python",
   "nbconvert_exporter": "python",
   "pygments_lexer": "ipython3",
   "version": "3.10.10"
  },
  "orig_nbformat": 4
 },
 "nbformat": 4,
 "nbformat_minor": 2
}
