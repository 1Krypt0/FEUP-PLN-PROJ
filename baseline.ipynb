{
 "cells": [
  {
   "cell_type": "code",
   "execution_count": 7,
   "metadata": {},
   "outputs": [
    {
     "name": "stdout",
     "output_type": "stream",
     "text": [
      "Added af-ZA.jsonl to dataframe\n",
      "Added am-ET.jsonl to dataframe\n",
      "Added ar-SA.jsonl to dataframe\n",
      "Added az-AZ.jsonl to dataframe\n",
      "Added bn-BD.jsonl to dataframe\n",
      "Added cy-GB.jsonl to dataframe\n",
      "Added da-DK.jsonl to dataframe\n",
      "Added de-DE.jsonl to dataframe\n",
      "Added el-GR.jsonl to dataframe\n",
      "Added en-US.jsonl to dataframe\n",
      "Added es-ES.jsonl to dataframe\n",
      "Added fa-IR.jsonl to dataframe\n",
      "Added fi-FI.jsonl to dataframe\n",
      "Added fr-FR.jsonl to dataframe\n",
      "Added he-IL.jsonl to dataframe\n",
      "Added hi-IN.jsonl to dataframe\n",
      "Added hu-HU.jsonl to dataframe\n",
      "Added hy-AM.jsonl to dataframe\n",
      "Added id-ID.jsonl to dataframe\n",
      "Added is-IS.jsonl to dataframe\n",
      "Added it-IT.jsonl to dataframe\n",
      "Added ja-JP.jsonl to dataframe\n",
      "Added jv-ID.jsonl to dataframe\n",
      "Added ka-GE.jsonl to dataframe\n",
      "Added km-KH.jsonl to dataframe\n",
      "Added kn-IN.jsonl to dataframe\n",
      "Added ko-KR.jsonl to dataframe\n",
      "Added lv-LV.jsonl to dataframe\n",
      "Added ml-IN.jsonl to dataframe\n",
      "Added mn-MN.jsonl to dataframe\n",
      "Added ms-MY.jsonl to dataframe\n",
      "Added my-MM.jsonl to dataframe\n",
      "Added nb-NO.jsonl to dataframe\n",
      "Added nl-NL.jsonl to dataframe\n",
      "Added pl-PL.jsonl to dataframe\n",
      "Added pt-PT.jsonl to dataframe\n",
      "Added ro-RO.jsonl to dataframe\n",
      "Added ru-RU.jsonl to dataframe\n",
      "Added sl-SL.jsonl to dataframe\n",
      "Added sq-AL.jsonl to dataframe\n",
      "Added sv-SE.jsonl to dataframe\n",
      "Added sw-KE.jsonl to dataframe\n",
      "Added ta-IN.jsonl to dataframe\n",
      "Added te-IN.jsonl to dataframe\n",
      "Added th-TH.jsonl to dataframe\n",
      "Added tl-PH.jsonl to dataframe\n",
      "Added tr-TR.jsonl to dataframe\n",
      "Added ur-PK.jsonl to dataframe\n",
      "Added vi-VN.jsonl to dataframe\n",
      "Added zh-CN.jsonl to dataframe\n",
      "Added zh-TW.jsonl to dataframe\n"
     ]
    }
   ],
   "source": [
    "# load the pt-pt json file into a dataframe\n",
    "import pandas as pd\n",
    "import os \n",
    "\n",
    "df = pd.DataFrame()\n",
    "\n",
    "for json_file in os.listdir('dataset'):\n",
    "    df = pd.concat([df, pd.read_json('dataset/' + json_file, lines=True)])\n",
    "    print(f\"Added {json_file} to dataframe\")"
   ]
  },
  {
   "cell_type": "code",
   "execution_count": 8,
   "metadata": {},
   "outputs": [
    {
     "data": {
      "text/html": [
       "<div>\n",
       "<style scoped>\n",
       "    .dataframe tbody tr th:only-of-type {\n",
       "        vertical-align: middle;\n",
       "    }\n",
       "\n",
       "    .dataframe tbody tr th {\n",
       "        vertical-align: top;\n",
       "    }\n",
       "\n",
       "    .dataframe thead th {\n",
       "        text-align: right;\n",
       "    }\n",
       "</style>\n",
       "<table border=\"1\" class=\"dataframe\">\n",
       "  <thead>\n",
       "    <tr style=\"text-align: right;\">\n",
       "      <th></th>\n",
       "      <th>id</th>\n",
       "      <th>locale</th>\n",
       "      <th>partition</th>\n",
       "      <th>scenario</th>\n",
       "      <th>intent</th>\n",
       "      <th>utt</th>\n",
       "      <th>annot_utt</th>\n",
       "      <th>worker_id</th>\n",
       "      <th>slot_method</th>\n",
       "      <th>judgments</th>\n",
       "    </tr>\n",
       "  </thead>\n",
       "  <tbody>\n",
       "    <tr>\n",
       "      <th>0</th>\n",
       "      <td>0</td>\n",
       "      <td>af-ZA</td>\n",
       "      <td>test</td>\n",
       "      <td>alarm</td>\n",
       "      <td>alarm_set</td>\n",
       "      <td>maak my wakker om vyf v. m. die week</td>\n",
       "      <td>maak my wakker om [time : vyf v. m.] [date : d...</td>\n",
       "      <td>37</td>\n",
       "      <td>[{'slot': 'time', 'method': 'localization'}, {...</td>\n",
       "      <td>[{'worker_id': '20', 'intent_score': 1, 'slots...</td>\n",
       "    </tr>\n",
       "    <tr>\n",
       "      <th>1</th>\n",
       "      <td>1</td>\n",
       "      <td>af-ZA</td>\n",
       "      <td>train</td>\n",
       "      <td>alarm</td>\n",
       "      <td>alarm_set</td>\n",
       "      <td>maak my wakker nege-uur v. m. op vrydag</td>\n",
       "      <td>maak my wakker [time : nege-uur v. m.] op [dat...</td>\n",
       "      <td>20</td>\n",
       "      <td>[{'slot': 'time', 'method': 'translation'}, {'...</td>\n",
       "      <td>[{'worker_id': '40', 'intent_score': 1, 'slots...</td>\n",
       "    </tr>\n",
       "    <tr>\n",
       "      <th>2</th>\n",
       "      <td>2</td>\n",
       "      <td>af-ZA</td>\n",
       "      <td>train</td>\n",
       "      <td>alarm</td>\n",
       "      <td>alarm_set</td>\n",
       "      <td>stel 'n alarm vir twee ure van nou af</td>\n",
       "      <td>stel 'n alarm vir [time : twee ure van nou af]</td>\n",
       "      <td>20</td>\n",
       "      <td>[{'slot': 'time', 'method': 'translation'}]</td>\n",
       "      <td>[{'worker_id': '64', 'intent_score': 1, 'slots...</td>\n",
       "    </tr>\n",
       "    <tr>\n",
       "      <th>3</th>\n",
       "      <td>3</td>\n",
       "      <td>af-ZA</td>\n",
       "      <td>test</td>\n",
       "      <td>audio</td>\n",
       "      <td>audio_volume_mute</td>\n",
       "      <td>stil</td>\n",
       "      <td>stil</td>\n",
       "      <td>40</td>\n",
       "      <td>[]</td>\n",
       "      <td>[{'worker_id': '45', 'intent_score': 1, 'slots...</td>\n",
       "    </tr>\n",
       "    <tr>\n",
       "      <th>4</th>\n",
       "      <td>4</td>\n",
       "      <td>af-ZA</td>\n",
       "      <td>train</td>\n",
       "      <td>audio</td>\n",
       "      <td>audio_volume_mute</td>\n",
       "      <td>janneman stilte</td>\n",
       "      <td>janneman stilte</td>\n",
       "      <td>40</td>\n",
       "      <td>[]</td>\n",
       "      <td>[{'worker_id': '45', 'intent_score': 1, 'slots...</td>\n",
       "    </tr>\n",
       "  </tbody>\n",
       "</table>\n",
       "</div>"
      ],
      "text/plain": [
       "   id locale partition scenario             intent  \\\n",
       "0   0  af-ZA      test    alarm          alarm_set   \n",
       "1   1  af-ZA     train    alarm          alarm_set   \n",
       "2   2  af-ZA     train    alarm          alarm_set   \n",
       "3   3  af-ZA      test    audio  audio_volume_mute   \n",
       "4   4  af-ZA     train    audio  audio_volume_mute   \n",
       "\n",
       "                                       utt  \\\n",
       "0     maak my wakker om vyf v. m. die week   \n",
       "1  maak my wakker nege-uur v. m. op vrydag   \n",
       "2    stel 'n alarm vir twee ure van nou af   \n",
       "3                                     stil   \n",
       "4                          janneman stilte   \n",
       "\n",
       "                                           annot_utt  worker_id  \\\n",
       "0  maak my wakker om [time : vyf v. m.] [date : d...         37   \n",
       "1  maak my wakker [time : nege-uur v. m.] op [dat...         20   \n",
       "2     stel 'n alarm vir [time : twee ure van nou af]         20   \n",
       "3                                               stil         40   \n",
       "4                                    janneman stilte         40   \n",
       "\n",
       "                                         slot_method  \\\n",
       "0  [{'slot': 'time', 'method': 'localization'}, {...   \n",
       "1  [{'slot': 'time', 'method': 'translation'}, {'...   \n",
       "2        [{'slot': 'time', 'method': 'translation'}]   \n",
       "3                                                 []   \n",
       "4                                                 []   \n",
       "\n",
       "                                           judgments  \n",
       "0  [{'worker_id': '20', 'intent_score': 1, 'slots...  \n",
       "1  [{'worker_id': '40', 'intent_score': 1, 'slots...  \n",
       "2  [{'worker_id': '64', 'intent_score': 1, 'slots...  \n",
       "3  [{'worker_id': '45', 'intent_score': 1, 'slots...  \n",
       "4  [{'worker_id': '45', 'intent_score': 1, 'slots...  "
      ]
     },
     "execution_count": 8,
     "metadata": {},
     "output_type": "execute_result"
    }
   ],
   "source": [
    "df.head()"
   ]
  },
  {
   "cell_type": "code",
   "execution_count": 9,
   "metadata": {},
   "outputs": [
    {
     "name": "stdout",
     "output_type": "stream",
     "text": [
      "calendar          120870\n",
      "play              103224\n",
      "qa                 85935\n",
      "email              70431\n",
      "iot                56457\n",
      "general            49113\n",
      "weather            43605\n",
      "transport          41055\n",
      "lists              40443\n",
      "news               36159\n",
      "recommendation     30396\n",
      "datetime           29478\n",
      "social             28815\n",
      "alarm              28050\n",
      "music              23919\n",
      "audio              19737\n",
      "takeaway           18258\n",
      "cooking            16626\n",
      "Name: scenario, dtype: int64\n",
      "calendar          0.143454\n",
      "play              0.122511\n",
      "qa                0.101991\n",
      "email             0.083591\n",
      "iot               0.067006\n",
      "general           0.058289\n",
      "weather           0.051752\n",
      "transport         0.048726\n",
      "lists             0.048000\n",
      "news              0.042915\n",
      "recommendation    0.036075\n",
      "datetime          0.034986\n",
      "social            0.034199\n",
      "alarm             0.033291\n",
      "music             0.028388\n",
      "audio             0.023425\n",
      "takeaway          0.021669\n",
      "cooking           0.019732\n",
      "Name: scenario, dtype: float64\n"
     ]
    },
    {
     "data": {
      "text/plain": [
       "<AxesSubplot: >"
      ]
     },
     "execution_count": 9,
     "metadata": {},
     "output_type": "execute_result"
    },
    {
     "data": {
      "image/png": "[encoded data removed]",
      "text/plain": [
       "<Figure size 640x480 with 1 Axes>"
      ]
     },
     "metadata": {},
     "output_type": "display_data"
    }
   ],
   "source": [
    "print(df['scenario'].value_counts())\n",
    "\n",
    "print(df['scenario'].value_counts(normalize=True))\n",
    "\n",
    "df['scenario'].value_counts().plot(kind='bar')"
   ]
  },
  {
   "cell_type": "code",
   "execution_count": 42,
   "metadata": {},
   "outputs": [
    {
     "name": "stdout",
     "output_type": "stream",
     "text": [
      "af-ZA    16521\n",
      "sl-SL    16521\n",
      "ml-IN    16521\n",
      "mn-MN    16521\n",
      "ms-MY    16521\n",
      "my-MM    16521\n",
      "nb-NO    16521\n",
      "nl-NL    16521\n",
      "pl-PL    16521\n",
      "pt-PT    16521\n",
      "ro-RO    16521\n",
      "ru-RU    16521\n",
      "sq-AL    16521\n",
      "ko-KR    16521\n",
      "sv-SE    16521\n",
      "sw-KE    16521\n",
      "ta-IN    16521\n",
      "te-IN    16521\n",
      "th-TH    16521\n",
      "tl-PH    16521\n",
      "tr-TR    16521\n",
      "ur-PK    16521\n",
      "vi-VN    16521\n",
      "zh-CN    16521\n",
      "lv-LV    16521\n",
      "kn-IN    16521\n",
      "am-ET    16521\n",
      "fi-FI    16521\n",
      "ar-SA    16521\n",
      "az-AZ    16521\n",
      "bn-BD    16521\n",
      "cy-GB    16521\n",
      "da-DK    16521\n",
      "de-DE    16521\n",
      "el-GR    16521\n",
      "en-US    16521\n",
      "es-ES    16521\n",
      "fa-IR    16521\n",
      "fr-FR    16521\n",
      "km-KH    16521\n",
      "he-IL    16521\n",
      "hi-IN    16521\n",
      "hu-HU    16521\n",
      "hy-AM    16521\n",
      "id-ID    16521\n",
      "is-IS    16521\n",
      "it-IT    16521\n",
      "ja-JP    16521\n",
      "jv-ID    16521\n",
      "ka-GE    16521\n",
      "zh-TW    16521\n",
      "Name: locale, dtype: int64\n",
      "af-ZA    0.019608\n",
      "sl-SL    0.019608\n",
      "ml-IN    0.019608\n",
      "mn-MN    0.019608\n",
      "ms-MY    0.019608\n",
      "my-MM    0.019608\n",
      "nb-NO    0.019608\n",
      "nl-NL    0.019608\n",
      "pl-PL    0.019608\n",
      "pt-PT    0.019608\n",
      "ro-RO    0.019608\n",
      "ru-RU    0.019608\n",
      "sq-AL    0.019608\n",
      "ko-KR    0.019608\n",
      "sv-SE    0.019608\n",
      "sw-KE    0.019608\n",
      "ta-IN    0.019608\n",
      "te-IN    0.019608\n",
      "th-TH    0.019608\n",
      "tl-PH    0.019608\n",
      "tr-TR    0.019608\n",
      "ur-PK    0.019608\n",
      "vi-VN    0.019608\n",
      "zh-CN    0.019608\n",
      "lv-LV    0.019608\n",
      "kn-IN    0.019608\n",
      "am-ET    0.019608\n",
      "fi-FI    0.019608\n",
      "ar-SA    0.019608\n",
      "az-AZ    0.019608\n",
      "bn-BD    0.019608\n",
      "cy-GB    0.019608\n",
      "da-DK    0.019608\n",
      "de-DE    0.019608\n",
      "el-GR    0.019608\n",
      "en-US    0.019608\n",
      "es-ES    0.019608\n",
      "fa-IR    0.019608\n",
      "fr-FR    0.019608\n",
      "km-KH    0.019608\n",
      "he-IL    0.019608\n",
      "hi-IN    0.019608\n",
      "hu-HU    0.019608\n",
      "hy-AM    0.019608\n",
      "id-ID    0.019608\n",
      "is-IS    0.019608\n",
      "it-IT    0.019608\n",
      "ja-JP    0.019608\n",
      "jv-ID    0.019608\n",
      "ka-GE    0.019608\n",
      "zh-TW    0.019608\n",
      "Name: locale, dtype: float64\n"
     ]
    },
    {
     "data": {
      "text/plain": [
       "<AxesSubplot: >"
      ]
     },
     "execution_count": 42,
     "metadata": {},
     "output_type": "execute_result"
    },
    {
     "data": {
      "image/png": "[encoded data removed]",
      "text/plain": [
       "<Figure size 640x480 with 1 Axes>"
      ]
     },
     "metadata": {},
     "output_type": "display_data"
    }
   ],
   "source": [
    "print(df['locale'].value_counts())\n",
    "\n",
    "print(df['locale'].value_counts(normalize=True))\n",
    "\n",
    "df['locale'].value_counts().plot(kind='bar')"
   ]
  },
  {
   "cell_type": "code",
   "execution_count": 10,
   "metadata": {},
   "outputs": [
    {
     "data": {
      "text/plain": [
       "<AxesSubplot: >"
      ]
     },
     "execution_count": 10,
     "metadata": {},
     "output_type": "execute_result"
    },
    {
     "data": {
      "image/png": "[encoded data removed]",
      "text/plain": [
       "<Figure size 640x480 with 1 Axes>"
      ]
     },
     "metadata": {},
     "output_type": "display_data"
    }
   ],
   "source": [
    "# plot the distribution of partitions with the percentage of each partition\n",
    "df['partition'].value_counts(normalize=True).plot(kind='bar')"
   ]
  },
  {
   "cell_type": "code",
   "execution_count": 11,
   "metadata": {},
   "outputs": [],
   "source": [
    "df_train = df[df['partition'] == 'train']\n",
    "df_test = df[(df['partition'] == 'test')]\n",
    "df_dev = df[(df['partition'] == 'dev')]\n"
   ]
  },
  {
   "cell_type": "code",
   "execution_count": 12,
   "metadata": {},
   "outputs": [],
   "source": [
    "corpus_train = df_train['utt'].tolist()\n",
    "corpus_dev = df_dev['utt'].tolist()"
   ]
  },
  {
   "cell_type": "code",
   "execution_count": 25,
   "metadata": {},
   "outputs": [
    {
     "name": "stdout",
     "output_type": "stream",
     "text": [
      "(587214, 294176) (103683, 294176)\n"
     ]
    }
   ],
   "source": [
    "from sklearn.feature_extraction.text import CountVectorizer\n",
    "import numpy as np\n",
    "\n",
    "vectorizer = CountVectorizer()\n",
    "X_train = vectorizer.fit_transform(corpus_train)\n",
    "\n",
    "X_dev = vectorizer.transform(corpus_dev)\n",
    "print(X_train.shape, X_dev.shape)"
   ]
  },
  {
   "cell_type": "code",
   "execution_count": 26,
   "metadata": {},
   "outputs": [
    {
     "name": "stdout",
     "output_type": "stream",
     "text": [
      "['a5' 'aa' 'aabot' ... '힘들었어' '힙합' '２つめのポッドキャストを再生して']\n"
     ]
    }
   ],
   "source": [
    "print(vectorizer.get_feature_names_out())"
   ]
  },
  {
   "cell_type": "code",
   "execution_count": 27,
   "metadata": {},
   "outputs": [
    {
     "name": "stdout",
     "output_type": "stream",
     "text": [
      "(587214, 294176) (587214, 2) (103683, 294176) (103683, 2)\n"
     ]
    }
   ],
   "source": [
    "y_train = df_train[['intent', 'locale']]\n",
    "y_dev = df_dev[['intent', 'locale']]\n",
    "\n",
    "print(X_train.shape, y_train.shape, X_dev.shape, y_dev.shape)"
   ]
  },
  {
   "cell_type": "code",
   "execution_count": 28,
   "metadata": {},
   "outputs": [
    {
     "data": {
      "text/html": [
       "<style>#sk-container-id-1 {color: black;background-color: white;}#sk-container-id-1 pre{padding: 0;}#sk-container-id-1 div.sk-toggleable {background-color: white;}#sk-container-id-1 label.sk-toggleable__label {cursor: pointer;display: block;width: 100%;margin-bottom: 0;padding: 0.3em;box-sizing: border-box;text-align: center;}#sk-container-id-1 label.sk-toggleable__label-arrow:before {content: \"▸\";float: left;margin-right: 0.25em;color: #696969;}#sk-container-id-1 label.sk-toggleable__label-arrow:hover:before {color: black;}#sk-container-id-1 div.sk-estimator:hover label.sk-toggleable__label-arrow:before {color: black;}#sk-container-id-1 div.sk-toggleable__content {max-height: 0;max-width: 0;overflow: hidden;text-align: left;background-color: #f0f8ff;}#sk-container-id-1 div.sk-toggleable__content pre {margin: 0.2em;color: black;border-radius: 0.25em;background-color: #f0f8ff;}#sk-container-id-1 input.sk-toggleable__control:checked~div.sk-toggleable__content {max-height: 200px;max-width: 100%;overflow: auto;}#sk-container-id-1 input.sk-toggleable__control:checked~label.sk-toggleable__label-arrow:before {content: \"▾\";}#sk-container-id-1 div.sk-estimator input.sk-toggleable__control:checked~label.sk-toggleable__label {background-color: #d4ebff;}#sk-container-id-1 div.sk-label input.sk-toggleable__control:checked~label.sk-toggleable__label {background-color: #d4ebff;}#sk-container-id-1 input.sk-hidden--visually {border: 0;clip: rect(1px 1px 1px 1px);clip: rect(1px, 1px, 1px, 1px);height: 1px;margin: -1px;overflow: hidden;padding: 0;position: absolute;width: 1px;}#sk-container-id-1 div.sk-estimator {font-family: monospace;background-color: #f0f8ff;border: 1px dotted black;border-radius: 0.25em;box-sizing: border-box;margin-bottom: 0.5em;}#sk-container-id-1 div.sk-estimator:hover {background-color: #d4ebff;}#sk-container-id-1 div.sk-parallel-item::after {content: \"\";width: 100%;border-bottom: 1px solid gray;flex-grow: 1;}#sk-container-id-1 div.sk-label:hover label.sk-toggleable__label {background-color: #d4ebff;}#sk-container-id-1 div.sk-serial::before {content: \"\";position: absolute;border-left: 1px solid gray;box-sizing: border-box;top: 0;bottom: 0;left: 50%;z-index: 0;}#sk-container-id-1 div.sk-serial {display: flex;flex-direction: column;align-items: center;background-color: white;padding-right: 0.2em;padding-left: 0.2em;position: relative;}#sk-container-id-1 div.sk-item {position: relative;z-index: 1;}#sk-container-id-1 div.sk-parallel {display: flex;align-items: stretch;justify-content: center;background-color: white;position: relative;}#sk-container-id-1 div.sk-item::before, #sk-container-id-1 div.sk-parallel-item::before {content: \"\";position: absolute;border-left: 1px solid gray;box-sizing: border-box;top: 0;bottom: 0;left: 50%;z-index: -1;}#sk-container-id-1 div.sk-parallel-item {display: flex;flex-direction: column;z-index: 1;position: relative;background-color: white;}#sk-container-id-1 div.sk-parallel-item:first-child::after {align-self: flex-end;width: 50%;}#sk-container-id-1 div.sk-parallel-item:last-child::after {align-self: flex-start;width: 50%;}#sk-container-id-1 div.sk-parallel-item:only-child::after {width: 0;}#sk-container-id-1 div.sk-dashed-wrapped {border: 1px dashed gray;margin: 0 0.4em 0.5em 0.4em;box-sizing: border-box;padding-bottom: 0.4em;background-color: white;}#sk-container-id-1 div.sk-label label {font-family: monospace;font-weight: bold;display: inline-block;line-height: 1.2em;}#sk-container-id-1 div.sk-label-container {text-align: center;}#sk-container-id-1 div.sk-container {/* jupyter's `normalize.less` sets `[hidden] { display: none; }` but bootstrap.min.css set `[hidden] { display: none !important; }` so we also need the `!important` here to be able to override the default hidden behavior on the sphinx rendered scikit-learn.org. See: https://github.com/scikit-learn/scikit-learn/issues/21755 */display: inline-block !important;position: relative;}#sk-container-id-1 div.sk-text-repr-fallback {display: none;}</style><div id=\"sk-container-id-1\" class=\"sk-top-container\"><div class=\"sk-text-repr-fallback\"><pre>MultiOutputClassifier(estimator=MultinomialNB())</pre><b>In a Jupyter environment, please rerun this cell to show the HTML representation or trust the notebook. <br />On GitHub, the HTML representation is unable to render, please try loading this page with nbviewer.org.</b></div><div class=\"sk-container\" hidden><div class=\"sk-item sk-dashed-wrapped\"><div class=\"sk-label-container\"><div class=\"sk-label sk-toggleable\"><input class=\"sk-toggleable__control sk-hidden--visually\" id=\"sk-estimator-id-1\" type=\"checkbox\" ><label for=\"sk-estimator-id-1\" class=\"sk-toggleable__label sk-toggleable__label-arrow\">MultiOutputClassifier</label><div class=\"sk-toggleable__content\"><pre>MultiOutputClassifier(estimator=MultinomialNB())</pre></div></div></div><div class=\"sk-parallel\"><div class=\"sk-parallel-item\"><div class=\"sk-item\"><div class=\"sk-label-container\"><div class=\"sk-label sk-toggleable\"><input class=\"sk-toggleable__control sk-hidden--visually\" id=\"sk-estimator-id-2\" type=\"checkbox\" ><label for=\"sk-estimator-id-2\" class=\"sk-toggleable__label sk-toggleable__label-arrow\">estimator: MultinomialNB</label><div class=\"sk-toggleable__content\"><pre>MultinomialNB()</pre></div></div></div><div class=\"sk-serial\"><div class=\"sk-item\"><div class=\"sk-estimator sk-toggleable\"><input class=\"sk-toggleable__control sk-hidden--visually\" id=\"sk-estimator-id-3\" type=\"checkbox\" ><label for=\"sk-estimator-id-3\" class=\"sk-toggleable__label sk-toggleable__label-arrow\">MultinomialNB</label><div class=\"sk-toggleable__content\"><pre>MultinomialNB()</pre></div></div></div></div></div></div></div></div></div></div>"
      ],
      "text/plain": [
       "MultiOutputClassifier(estimator=MultinomialNB())"
      ]
     },
     "execution_count": 28,
     "metadata": {},
     "output_type": "execute_result"
    }
   ],
   "source": [
    "from sklearn.naive_bayes import MultinomialNB\n",
    "from sklearn.multioutput import MultiOutputClassifier\n",
    "\n",
    "clf = MultiOutputClassifier(MultinomialNB())\n",
    "clf.fit(X_train, y_train)"
   ]
  },
  {
   "cell_type": "code",
   "execution_count": 29,
   "metadata": {},
   "outputs": [
    {
     "name": "stdout",
     "output_type": "stream",
     "text": [
      "[['iot_hue_lightoff' 'af-ZA']\n",
      " ['iot_hue_lightdim' 'af-ZA']\n",
      " ['calendar_set' 'af-ZA']\n",
      " ...\n",
      " ['email_sendemail' 'it-IT']\n",
      " ['calendar_set' 'af-ZA']\n",
      " ['calendar_set' 'af-ZA']]\n"
     ]
    }
   ],
   "source": [
    "y_pred = clf.predict(X_dev)\n",
    "print(y_pred)"
   ]
  },
  {
   "cell_type": "code",
   "execution_count": 34,
   "metadata": {},
   "outputs": [
    {
     "data": {
      "text/plain": [
       "0.6079010059508309"
      ]
     },
     "execution_count": 34,
     "metadata": {},
     "output_type": "execute_result"
    }
   ],
   "source": [
    "clf.score(X_dev, y_dev)"
   ]
  },
  {
   "cell_type": "code",
   "execution_count": 41,
   "metadata": {},
   "outputs": [
    {
     "name": "stdout",
     "output_type": "stream",
     "text": [
      "-----Results for intents-----\n",
      "\n",
      "\n",
      "Accuracy: 0.6197062199203341\n",
      "F1: 0.5462946490365892\n",
      "-----Results for locales-----\n",
      "\n",
      "\n",
      "Accuracy: 0.9252143552945035\n",
      "F1: 0.9218056976937392\n"
     ]
    }
   ],
   "source": [
    "from sklearn.metrics import accuracy_score\n",
    "from sklearn.metrics import precision_score\n",
    "from sklearn.metrics import recall_score\n",
    "from sklearn.metrics import f1_score\n",
    "\n",
    "y_dev_intents = y_dev['intent'].tolist()\n",
    "y_pred_intents = y_pred[:, 0].tolist()\n",
    "\n",
    "y_dev_locales = y_dev['locale'].tolist()\n",
    "y_pred_locales = y_pred[:, 1].tolist()\n",
    "\n",
    "print(f\"-----Results for intents-----\\n\\n\")\n",
    "# accuracy, precision, recall, f1\n",
    "print(f\"Accuracy: {accuracy_score(y_dev_intents, y_pred_intents)}\")\n",
    "print(f\"F1: {f1_score(y_dev_intents, y_pred_intents, average='macro')}\")\n",
    "\n",
    "print(f\"-----Results for locales-----\\n\\n\")\n",
    "# accuracy, precision, recall, f1\n",
    "print(f\"Accuracy: {accuracy_score(y_dev_locales, y_pred_locales)}\")\n",
    "print(f\"F1: {f1_score(y_dev_locales, y_pred_locales, average='macro')}\")"
   ]
  }
 ],
 "metadata": {
  "kernelspec": {
   "display_name": "Python 3",
   "language": "python",
   "name": "python3"
  },
  "language_info": {
   "codemirror_mode": {
    "name": "ipython",
    "version": 3
   },
   "file_extension": ".py",
   "mimetype": "text/x-python",
   "name": "python",
   "nbconvert_exporter": "python",
   "pygments_lexer": "ipython3",
   "version": "3.11.0"
  },
  "orig_nbformat": 4
 },
 "nbformat": 4,
 "nbformat_minor": 2
}
