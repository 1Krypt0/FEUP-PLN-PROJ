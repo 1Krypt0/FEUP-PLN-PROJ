{
 "cells": [
  {
   "cell_type": "code",
   "execution_count": 1,
   "metadata": {},
   "outputs": [
    {
     "data": {
      "text/html": [
       "<div>\n",
       "<style scoped>\n",
       "    .dataframe tbody tr th:only-of-type {\n",
       "        vertical-align: middle;\n",
       "    }\n",
       "\n",
       "    .dataframe tbody tr th {\n",
       "        vertical-align: top;\n",
       "    }\n",
       "\n",
       "    .dataframe thead th {\n",
       "        text-align: right;\n",
       "    }\n",
       "</style>\n",
       "<table border=\"1\" class=\"dataframe\">\n",
       "  <thead>\n",
       "    <tr style=\"text-align: right;\">\n",
       "      <th></th>\n",
       "      <th>id</th>\n",
       "      <th>locale</th>\n",
       "      <th>partition</th>\n",
       "      <th>scenario</th>\n",
       "      <th>intent</th>\n",
       "      <th>utt</th>\n",
       "      <th>annot_utt</th>\n",
       "      <th>worker_id</th>\n",
       "    </tr>\n",
       "  </thead>\n",
       "  <tbody>\n",
       "    <tr>\n",
       "      <th>0</th>\n",
       "      <td>0</td>\n",
       "      <td>en-US</td>\n",
       "      <td>test</td>\n",
       "      <td>alarm</td>\n",
       "      <td>alarm_set</td>\n",
       "      <td>wake me up at five am this week</td>\n",
       "      <td>wake me up at [time : five am] [date : this week]</td>\n",
       "      <td>1</td>\n",
       "    </tr>\n",
       "    <tr>\n",
       "      <th>1</th>\n",
       "      <td>1</td>\n",
       "      <td>en-US</td>\n",
       "      <td>train</td>\n",
       "      <td>alarm</td>\n",
       "      <td>alarm_set</td>\n",
       "      <td>wake me up at nine am on friday</td>\n",
       "      <td>wake me up at [time : nine am] on [date : friday]</td>\n",
       "      <td>1</td>\n",
       "    </tr>\n",
       "    <tr>\n",
       "      <th>2</th>\n",
       "      <td>2</td>\n",
       "      <td>en-US</td>\n",
       "      <td>train</td>\n",
       "      <td>alarm</td>\n",
       "      <td>alarm_set</td>\n",
       "      <td>set an alarm for two hours from now</td>\n",
       "      <td>set an alarm for [time : two hours from now]</td>\n",
       "      <td>1</td>\n",
       "    </tr>\n",
       "    <tr>\n",
       "      <th>3</th>\n",
       "      <td>3</td>\n",
       "      <td>en-US</td>\n",
       "      <td>test</td>\n",
       "      <td>audio</td>\n",
       "      <td>audio_volume_mute</td>\n",
       "      <td>quiet</td>\n",
       "      <td>quiet</td>\n",
       "      <td>1</td>\n",
       "    </tr>\n",
       "    <tr>\n",
       "      <th>4</th>\n",
       "      <td>4</td>\n",
       "      <td>en-US</td>\n",
       "      <td>train</td>\n",
       "      <td>audio</td>\n",
       "      <td>audio_volume_mute</td>\n",
       "      <td>olly quiet</td>\n",
       "      <td>olly quiet</td>\n",
       "      <td>1</td>\n",
       "    </tr>\n",
       "    <tr>\n",
       "      <th>...</th>\n",
       "      <td>...</td>\n",
       "      <td>...</td>\n",
       "      <td>...</td>\n",
       "      <td>...</td>\n",
       "      <td>...</td>\n",
       "      <td>...</td>\n",
       "      <td>...</td>\n",
       "      <td>...</td>\n",
       "    </tr>\n",
       "    <tr>\n",
       "      <th>16516</th>\n",
       "      <td>17176</td>\n",
       "      <td>en-US</td>\n",
       "      <td>train</td>\n",
       "      <td>email</td>\n",
       "      <td>email_query</td>\n",
       "      <td>do i have emails</td>\n",
       "      <td>do i have emails</td>\n",
       "      <td>12</td>\n",
       "    </tr>\n",
       "    <tr>\n",
       "      <th>16517</th>\n",
       "      <td>17177</td>\n",
       "      <td>en-US</td>\n",
       "      <td>train</td>\n",
       "      <td>email</td>\n",
       "      <td>email_query</td>\n",
       "      <td>what emails are new</td>\n",
       "      <td>what emails are new</td>\n",
       "      <td>12</td>\n",
       "    </tr>\n",
       "    <tr>\n",
       "      <th>16518</th>\n",
       "      <td>17178</td>\n",
       "      <td>en-US</td>\n",
       "      <td>train</td>\n",
       "      <td>email</td>\n",
       "      <td>email_query</td>\n",
       "      <td>do i have new emails from john</td>\n",
       "      <td>do i have new emails from [person : john]</td>\n",
       "      <td>12</td>\n",
       "    </tr>\n",
       "    <tr>\n",
       "      <th>16519</th>\n",
       "      <td>17179</td>\n",
       "      <td>en-US</td>\n",
       "      <td>test</td>\n",
       "      <td>email</td>\n",
       "      <td>email_query</td>\n",
       "      <td>has john sent me an email</td>\n",
       "      <td>has [person : john] sent me an email</td>\n",
       "      <td>12</td>\n",
       "    </tr>\n",
       "    <tr>\n",
       "      <th>16520</th>\n",
       "      <td>17180</td>\n",
       "      <td>en-US</td>\n",
       "      <td>train</td>\n",
       "      <td>email</td>\n",
       "      <td>email_query</td>\n",
       "      <td>check email from john</td>\n",
       "      <td>check email from [person : john]</td>\n",
       "      <td>12</td>\n",
       "    </tr>\n",
       "  </tbody>\n",
       "</table>\n",
       "<p>16521 rows × 8 columns</p>\n",
       "</div>"
      ],
      "text/plain": [
       "          id locale partition scenario             intent  \\\n",
       "0          0  en-US      test    alarm          alarm_set   \n",
       "1          1  en-US     train    alarm          alarm_set   \n",
       "2          2  en-US     train    alarm          alarm_set   \n",
       "3          3  en-US      test    audio  audio_volume_mute   \n",
       "4          4  en-US     train    audio  audio_volume_mute   \n",
       "...      ...    ...       ...      ...                ...   \n",
       "16516  17176  en-US     train    email        email_query   \n",
       "16517  17177  en-US     train    email        email_query   \n",
       "16518  17178  en-US     train    email        email_query   \n",
       "16519  17179  en-US      test    email        email_query   \n",
       "16520  17180  en-US     train    email        email_query   \n",
       "\n",
       "                                       utt  \\\n",
       "0          wake me up at five am this week   \n",
       "1          wake me up at nine am on friday   \n",
       "2      set an alarm for two hours from now   \n",
       "3                                    quiet   \n",
       "4                               olly quiet   \n",
       "...                                    ...   \n",
       "16516                     do i have emails   \n",
       "16517                  what emails are new   \n",
       "16518       do i have new emails from john   \n",
       "16519            has john sent me an email   \n",
       "16520                check email from john   \n",
       "\n",
       "                                               annot_utt  worker_id  \n",
       "0      wake me up at [time : five am] [date : this week]          1  \n",
       "1      wake me up at [time : nine am] on [date : friday]          1  \n",
       "2           set an alarm for [time : two hours from now]          1  \n",
       "3                                                  quiet          1  \n",
       "4                                             olly quiet          1  \n",
       "...                                                  ...        ...  \n",
       "16516                                   do i have emails         12  \n",
       "16517                                what emails are new         12  \n",
       "16518          do i have new emails from [person : john]         12  \n",
       "16519               has [person : john] sent me an email         12  \n",
       "16520                   check email from [person : john]         12  \n",
       "\n",
       "[16521 rows x 8 columns]"
      ]
     },
     "execution_count": 1,
     "metadata": {},
     "output_type": "execute_result"
    }
   ],
   "source": [
    "# load the pt-pt json file into a dataframe\n",
    "import pandas as pd\n",
    "\n",
    "df = pd.read_json('dataset/en-US.jsonl', lines=True)\n",
    "df"
   ]
  },
  {
   "cell_type": "code",
   "execution_count": 3,
   "metadata": {},
   "outputs": [
    {
     "name": "stdout",
     "output_type": "stream",
     "text": [
      "calendar          2370\n",
      "play              2024\n",
      "qa                1685\n",
      "email             1381\n",
      "iot               1107\n",
      "general            963\n",
      "weather            855\n",
      "transport          805\n",
      "lists              793\n",
      "news               709\n",
      "recommendation     596\n",
      "datetime           578\n",
      "social             565\n",
      "alarm              550\n",
      "music              469\n",
      "audio              387\n",
      "takeaway           358\n",
      "cooking            326\n",
      "Name: scenario, dtype: int64\n",
      "calendar          0.143454\n",
      "play              0.122511\n",
      "qa                0.101991\n",
      "email             0.083591\n",
      "iot               0.067006\n",
      "general           0.058289\n",
      "weather           0.051752\n",
      "transport         0.048726\n",
      "lists             0.048000\n",
      "news              0.042915\n",
      "recommendation    0.036075\n",
      "datetime          0.034986\n",
      "social            0.034199\n",
      "alarm             0.033291\n",
      "music             0.028388\n",
      "audio             0.023425\n",
      "takeaway          0.021669\n",
      "cooking           0.019732\n",
      "Name: scenario, dtype: float64\n"
     ]
    },
    {
     "data": {
      "text/plain": [
       "<AxesSubplot: >"
      ]
     },
     "execution_count": 3,
     "metadata": {},
     "output_type": "execute_result"
    },
    {
     "data": {
      "image/png": "[encoded data removed]",
      "text/plain": [
       "<Figure size 640x480 with 1 Axes>"
      ]
     },
     "metadata": {},
     "output_type": "display_data"
    }
   ],
   "source": [
    "print(df['scenario'].value_counts())\n",
    "\n",
    "print(df['scenario'].value_counts(normalize=True))\n",
    "\n",
    "df['scenario'].value_counts().plot(kind='bar')"
   ]
  },
  {
   "cell_type": "code",
   "execution_count": 7,
   "metadata": {},
   "outputs": [
    {
     "data": {
      "text/plain": [
       "<AxesSubplot: >"
      ]
     },
     "execution_count": 7,
     "metadata": {},
     "output_type": "execute_result"
    },
    {
     "data": {
      "image/png": "[encoded data removed]",
      "text/plain": [
       "<Figure size 640x480 with 1 Axes>"
      ]
     },
     "metadata": {},
     "output_type": "display_data"
    }
   ],
   "source": [
    "# plot the distribution of partitions with the percentage of each partition\n",
    "df['partition'].value_counts(normalize=True).plot(kind='bar')"
   ]
  },
  {
   "cell_type": "code",
   "execution_count": 14,
   "metadata": {},
   "outputs": [],
   "source": [
    "df_train = df[df['partition'] == 'train']\n",
    "df_test = df[(df['partition'] == 'test')]\n",
    "df_dev = df[(df['partition'] == 'dev')]\n"
   ]
  },
  {
   "cell_type": "code",
   "execution_count": 15,
   "metadata": {},
   "outputs": [],
   "source": [
    "corpus_train = df_train['utt'].tolist()\n",
    "corpus_dev = df_dev['utt'].tolist()"
   ]
  },
  {
   "cell_type": "code",
   "execution_count": 16,
   "metadata": {},
   "outputs": [
    {
     "name": "stdout",
     "output_type": "stream",
     "text": [
      "(11514, 5115) (2033, 5115)\n"
     ]
    }
   ],
   "source": [
    "from sklearn.feature_extraction.text import CountVectorizer\n",
    "\n",
    "vectorizer = CountVectorizer()\n",
    "X_train = vectorizer.fit_transform(corpus_train).toarray()\n",
    "X_dev = vectorizer.transform(corpus_dev).toarray()\n",
    "print(X_train.shape, X_dev.shape)"
   ]
  },
  {
   "cell_type": "code",
   "execution_count": 17,
   "metadata": {},
   "outputs": [
    {
     "name": "stdout",
     "output_type": "stream",
     "text": [
      "['aa' 'aapa' 'aaron' ... 'zoo' 'zucchini' 'zydeco']\n"
     ]
    }
   ],
   "source": [
    "print(vectorizer.get_feature_names_out())"
   ]
  },
  {
   "cell_type": "code",
   "execution_count": 18,
   "metadata": {},
   "outputs": [
    {
     "name": "stdout",
     "output_type": "stream",
     "text": [
      "(11514, 5115) (11514,) (2033, 5115) (2033,)\n"
     ]
    }
   ],
   "source": [
    "y_train = df_train['intent']\n",
    "y_dev = df_dev['intent']\n",
    "\n",
    "print(X_train.shape, y_train.shape, X_dev.shape, y_dev.shape)"
   ]
  },
  {
   "cell_type": "code",
   "execution_count": 29,
   "metadata": {},
   "outputs": [
    {
     "data": {
      "text/html": [
       "<style>#sk-container-id-4 {color: black;background-color: white;}#sk-container-id-4 pre{padding: 0;}#sk-container-id-4 div.sk-toggleable {background-color: white;}#sk-container-id-4 label.sk-toggleable__label {cursor: pointer;display: block;width: 100%;margin-bottom: 0;padding: 0.3em;box-sizing: border-box;text-align: center;}#sk-container-id-4 label.sk-toggleable__label-arrow:before {content: \"▸\";float: left;margin-right: 0.25em;color: #696969;}#sk-container-id-4 label.sk-toggleable__label-arrow:hover:before {color: black;}#sk-container-id-4 div.sk-estimator:hover label.sk-toggleable__label-arrow:before {color: black;}#sk-container-id-4 div.sk-toggleable__content {max-height: 0;max-width: 0;overflow: hidden;text-align: left;background-color: #f0f8ff;}#sk-container-id-4 div.sk-toggleable__content pre {margin: 0.2em;color: black;border-radius: 0.25em;background-color: #f0f8ff;}#sk-container-id-4 input.sk-toggleable__control:checked~div.sk-toggleable__content {max-height: 200px;max-width: 100%;overflow: auto;}#sk-container-id-4 input.sk-toggleable__control:checked~label.sk-toggleable__label-arrow:before {content: \"▾\";}#sk-container-id-4 div.sk-estimator input.sk-toggleable__control:checked~label.sk-toggleable__label {background-color: #d4ebff;}#sk-container-id-4 div.sk-label input.sk-toggleable__control:checked~label.sk-toggleable__label {background-color: #d4ebff;}#sk-container-id-4 input.sk-hidden--visually {border: 0;clip: rect(1px 1px 1px 1px);clip: rect(1px, 1px, 1px, 1px);height: 1px;margin: -1px;overflow: hidden;padding: 0;position: absolute;width: 1px;}#sk-container-id-4 div.sk-estimator {font-family: monospace;background-color: #f0f8ff;border: 1px dotted black;border-radius: 0.25em;box-sizing: border-box;margin-bottom: 0.5em;}#sk-container-id-4 div.sk-estimator:hover {background-color: #d4ebff;}#sk-container-id-4 div.sk-parallel-item::after {content: \"\";width: 100%;border-bottom: 1px solid gray;flex-grow: 1;}#sk-container-id-4 div.sk-label:hover label.sk-toggleable__label {background-color: #d4ebff;}#sk-container-id-4 div.sk-serial::before {content: \"\";position: absolute;border-left: 1px solid gray;box-sizing: border-box;top: 0;bottom: 0;left: 50%;z-index: 0;}#sk-container-id-4 div.sk-serial {display: flex;flex-direction: column;align-items: center;background-color: white;padding-right: 0.2em;padding-left: 0.2em;position: relative;}#sk-container-id-4 div.sk-item {position: relative;z-index: 1;}#sk-container-id-4 div.sk-parallel {display: flex;align-items: stretch;justify-content: center;background-color: white;position: relative;}#sk-container-id-4 div.sk-item::before, #sk-container-id-4 div.sk-parallel-item::before {content: \"\";position: absolute;border-left: 1px solid gray;box-sizing: border-box;top: 0;bottom: 0;left: 50%;z-index: -1;}#sk-container-id-4 div.sk-parallel-item {display: flex;flex-direction: column;z-index: 1;position: relative;background-color: white;}#sk-container-id-4 div.sk-parallel-item:first-child::after {align-self: flex-end;width: 50%;}#sk-container-id-4 div.sk-parallel-item:last-child::after {align-self: flex-start;width: 50%;}#sk-container-id-4 div.sk-parallel-item:only-child::after {width: 0;}#sk-container-id-4 div.sk-dashed-wrapped {border: 1px dashed gray;margin: 0 0.4em 0.5em 0.4em;box-sizing: border-box;padding-bottom: 0.4em;background-color: white;}#sk-container-id-4 div.sk-label label {font-family: monospace;font-weight: bold;display: inline-block;line-height: 1.2em;}#sk-container-id-4 div.sk-label-container {text-align: center;}#sk-container-id-4 div.sk-container {/* jupyter's `normalize.less` sets `[hidden] { display: none; }` but bootstrap.min.css set `[hidden] { display: none !important; }` so we also need the `!important` here to be able to override the default hidden behavior on the sphinx rendered scikit-learn.org. See: https://github.com/scikit-learn/scikit-learn/issues/21755 */display: inline-block !important;position: relative;}#sk-container-id-4 div.sk-text-repr-fallback {display: none;}</style><div id=\"sk-container-id-4\" class=\"sk-top-container\"><div class=\"sk-text-repr-fallback\"><pre>MultinomialNB()</pre><b>In a Jupyter environment, please rerun this cell to show the HTML representation or trust the notebook. <br />On GitHub, the HTML representation is unable to render, please try loading this page with nbviewer.org.</b></div><div class=\"sk-container\" hidden><div class=\"sk-item\"><div class=\"sk-estimator sk-toggleable\"><input class=\"sk-toggleable__control sk-hidden--visually\" id=\"sk-estimator-id-4\" type=\"checkbox\" checked><label for=\"sk-estimator-id-4\" class=\"sk-toggleable__label sk-toggleable__label-arrow\">MultinomialNB</label><div class=\"sk-toggleable__content\"><pre>MultinomialNB()</pre></div></div></div></div></div>"
      ],
      "text/plain": [
       "MultinomialNB()"
      ]
     },
     "execution_count": 29,
     "metadata": {},
     "output_type": "execute_result"
    }
   ],
   "source": [
    "from sklearn.naive_bayes import MultinomialNB\n",
    "\n",
    "clf = MultinomialNB()\n",
    "clf.fit(X_train, y_train)"
   ]
  },
  {
   "cell_type": "code",
   "execution_count": 30,
   "metadata": {},
   "outputs": [
    {
     "name": "stdout",
     "output_type": "stream",
     "text": [
      "['iot_hue_lightoff' 'iot_hue_lightdim' 'iot_hue_lightchange' ...\n",
      " 'email_sendemail' 'general_quirky' 'calendar_query']\n"
     ]
    }
   ],
   "source": [
    "y_pred = clf.predict(X_dev)\n",
    "print(y_pred)"
   ]
  },
  {
   "cell_type": "code",
   "execution_count": 31,
   "metadata": {},
   "outputs": [
    {
     "name": "stdout",
     "output_type": "stream",
     "text": [
      "Accuracy: 0.720609936055091\n",
      "Precision: 0.7781037257104889\n",
      "Recall: 0.5660075087078197\n",
      "F1: 0.6163523585770985\n"
     ]
    },
    {
     "name": "stderr",
     "output_type": "stream",
     "text": [
      "c:\\Users\\nrtc\\AppData\\Local\\Programs\\Python\\Python311\\Lib\\site-packages\\sklearn\\metrics\\_classification.py:1334: UndefinedMetricWarning: Precision is ill-defined and being set to 0.0 in labels with no predicted samples. Use `zero_division` parameter to control this behavior.\n",
      "  _warn_prf(average, modifier, msg_start, len(result))\n"
     ]
    }
   ],
   "source": [
    "from sklearn.metrics import accuracy_score\n",
    "from sklearn.metrics import precision_score\n",
    "from sklearn.metrics import recall_score\n",
    "from sklearn.metrics import f1_score\n",
    "\n",
    "# accuracy, precision, recall, f1\n",
    "print(f\"Accuracy: {accuracy_score(y_dev, y_pred)}\")\n",
    "print(f\"Precision: {precision_score(y_dev, y_pred, average='macro')}\")\n",
    "print(f\"Recall: {recall_score(y_dev, y_pred, average='macro')}\")\n",
    "print(f\"F1: {f1_score(y_dev, y_pred, average='macro')}\")"
   ]
  },
  {
   "attachments": {},
   "cell_type": "markdown",
   "metadata": {},
   "source": [
    "# Baseline\n",
    "\n",
    "The baseline results are 0.6163 for the F1-macro score."
   ]
  }
 ],
 "metadata": {
  "kernelspec": {
   "display_name": "Python 3",
   "language": "python",
   "name": "python3"
  },
  "language_info": {
   "codemirror_mode": {
    "name": "ipython",
    "version": 3
   },
   "file_extension": ".py",
   "mimetype": "text/x-python",
   "name": "python",
   "nbconvert_exporter": "python",
   "pygments_lexer": "ipython3",
   "version": "3.11.0"
  },
  "orig_nbformat": 4
 },
 "nbformat": 4,
 "nbformat_minor": 2
}
