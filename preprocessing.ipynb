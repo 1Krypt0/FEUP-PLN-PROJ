{
 "cells": [
  {
   "cell_type": "code",
   "execution_count": 1,
   "metadata": {},
   "outputs": [
    {
     "name": "stdout",
     "output_type": "stream",
     "text": [
      "Added af-ZA.jsonl to dataframe\n",
      "Added am-ET.jsonl to dataframe\n",
      "Added ar-SA.jsonl to dataframe\n",
      "Added az-AZ.jsonl to dataframe\n",
      "Added bn-BD.jsonl to dataframe\n",
      "Added cy-GB.jsonl to dataframe\n",
      "Added da-DK.jsonl to dataframe\n",
      "Added de-DE.jsonl to dataframe\n",
      "Added el-GR.jsonl to dataframe\n",
      "Added en-US.jsonl to dataframe\n",
      "Added es-ES.jsonl to dataframe\n",
      "Added fa-IR.jsonl to dataframe\n",
      "Added fi-FI.jsonl to dataframe\n",
      "Added fr-FR.jsonl to dataframe\n",
      "Added he-IL.jsonl to dataframe\n",
      "Added hi-IN.jsonl to dataframe\n",
      "Added hu-HU.jsonl to dataframe\n",
      "Added hy-AM.jsonl to dataframe\n",
      "Added id-ID.jsonl to dataframe\n",
      "Added is-IS.jsonl to dataframe\n",
      "Added it-IT.jsonl to dataframe\n",
      "Added ja-JP.jsonl to dataframe\n",
      "Added jv-ID.jsonl to dataframe\n",
      "Added ka-GE.jsonl to dataframe\n",
      "Added km-KH.jsonl to dataframe\n",
      "Added kn-IN.jsonl to dataframe\n",
      "Added ko-KR.jsonl to dataframe\n",
      "Added lv-LV.jsonl to dataframe\n",
      "Added ml-IN.jsonl to dataframe\n",
      "Added mn-MN.jsonl to dataframe\n",
      "Added ms-MY.jsonl to dataframe\n",
      "Added my-MM.jsonl to dataframe\n",
      "Added nb-NO.jsonl to dataframe\n",
      "Added nl-NL.jsonl to dataframe\n",
      "Added pl-PL.jsonl to dataframe\n",
      "Added pt-PT.jsonl to dataframe\n",
      "Added ro-RO.jsonl to dataframe\n",
      "Added ru-RU.jsonl to dataframe\n",
      "Added sl-SL.jsonl to dataframe\n",
      "Added sq-AL.jsonl to dataframe\n",
      "Added sv-SE.jsonl to dataframe\n",
      "Added sw-KE.jsonl to dataframe\n",
      "Added ta-IN.jsonl to dataframe\n",
      "Added te-IN.jsonl to dataframe\n",
      "Added th-TH.jsonl to dataframe\n",
      "Added tl-PH.jsonl to dataframe\n",
      "Added tr-TR.jsonl to dataframe\n",
      "Added ur-PK.jsonl to dataframe\n",
      "Added vi-VN.jsonl to dataframe\n",
      "Added zh-CN.jsonl to dataframe\n",
      "Added zh-TW.jsonl to dataframe\n"
     ]
    }
   ],
   "source": [
    "# load the pt-pt json file into a dataframe\n",
    "import pandas as pd\n",
    "import os \n",
    "\n",
    "df = pd.DataFrame()\n",
    "\n",
    "for json_file in os.listdir('dataset'):\n",
    "    df = pd.concat([df, pd.read_json('dataset/' + json_file, lines=True)])\n",
    "    print(f\"Added {json_file} to dataframe\")\n",
    "\n",
    "df['locale'] = df['locale'].apply(lambda x: x.split('-')[0])"
   ]
  },
  {
   "cell_type": "code",
   "execution_count": null,
   "metadata": {},
   "outputs": [],
   "source": []
  }
 ],
 "metadata": {
  "kernelspec": {
   "display_name": "Python 3",
   "language": "python",
   "name": "python3"
  },
  "language_info": {
   "codemirror_mode": {
    "name": "ipython",
    "version": 3
   },
   "file_extension": ".py",
   "mimetype": "text/x-python",
   "name": "python",
   "nbconvert_exporter": "python",
   "pygments_lexer": "ipython3",
   "version": "3.11.0"
  },
  "orig_nbformat": 4
 },
 "nbformat": 4,
 "nbformat_minor": 2
}
